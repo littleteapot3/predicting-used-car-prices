{
 "cells": [
  {
   "cell_type": "markdown",
   "id": "242a0305",
   "metadata": {},
   "source": [
    "# Predicting Used Car Prices with Machine Learning\n",
    "\n",
    "## Project Overview\n",
    "\n",
    "Rusty Bargain, a used car sales service, is developing an app to help users quickly estimate the market value of their vehicles. The goal is to build a machine learning model that can accurately predict car prices based on historical sales data, including technical specifications, trim versions, and pricing trends.\n",
    "\n",
    "For this project, the key priorities are:\n",
    "\n",
    "- **Accuracy** – Ensuring the model makes reliable price predictions\n",
    "- **Speed** – Optimizing prediction times for a smooth user experience\n",
    "- **Efficiency** – Keeping training times reasonable for practical deployment\n",
    "\n",
    "The final model will balance these factors to deliver the best results for Rusty Bargain’s app.\n",
    "\n"
   ]
  },
  {
   "cell_type": "markdown",
   "id": "1322eba5",
   "metadata": {},
   "source": [
    "## Imports"
   ]
  },
  {
   "cell_type": "code",
   "execution_count": 1,
   "id": "db0604ba",
   "metadata": {},
   "outputs": [],
   "source": [
    "import numpy as np\n",
    "import pandas as pd\n",
    "\n",
    "import seaborn as sns\n",
    "import matplotlib.pyplot as plt\n",
    "\n",
    "from sklearn.preprocessing import LabelEncoder\n",
    "\n",
    "from sklearn.model_selection import train_test_split, cross_val_score\n",
    "from sklearn.preprocessing import StandardScaler\n",
    "from sklearn.linear_model import LinearRegression\n",
    "import time\n",
    "\n",
    "from sklearn.metrics import root_mean_squared_error\n",
    "\n",
    "from sklearn.model_selection import GridSearchCV\n",
    "from sklearn.model_selection import RandomizedSearchCV\n",
    "\n",
    "from sklearn.ensemble import RandomForestRegressor\n",
    "import xgboost as xgb\n",
    "import lightgbm as lgb\n",
    "from catboost import CatBoostRegressor"
   ]
  },
  {
   "cell_type": "markdown",
   "id": "3f95e00a",
   "metadata": {},
   "source": [
    "# Data Preprocessing\n",
    "\n",
    "## Load data\n"
   ]
  },
  {
   "cell_type": "code",
   "execution_count": 2,
   "id": "2d69be09",
   "metadata": {
    "scrolled": true
   },
   "outputs": [
    {
     "name": "stdout",
     "output_type": "stream",
     "text": [
      "File loaded data locally\n"
     ]
    }
   ],
   "source": [
    "try: \n",
    "    data = pd.read_csv('../data/car_data.csv')\n",
    "    print(\"File loaded data locally\")\n",
    "except FileNotFoundError: \n",
    "    data = pd.read_csv('https://practicum-content.s3.us-west-1.amazonaws.com/datasets/car_data.csv')\n",
    "    print(\"File loaded from the server\")"
   ]
  },
  {
   "cell_type": "markdown",
   "id": "fe694c04",
   "metadata": {},
   "source": [
    "**Checking the data**"
   ]
  },
  {
   "cell_type": "code",
   "execution_count": 3,
   "id": "8f4459ec",
   "metadata": {
    "scrolled": true
   },
   "outputs": [
    {
     "name": "stdout",
     "output_type": "stream",
     "text": [
      "             DateCrawled  Price VehicleType  RegistrationYear Gearbox  Power  \\\n",
      "202299  27/03/2016 23:48   9700       sedan              2005    auto    295   \n",
      "59160   08/03/2016 22:49   2900       sedan              2000  manual    105   \n",
      "62935   18/03/2016 20:47   2700       sedan              2006  manual     64   \n",
      "68887   04/04/2016 16:49   2999       small              2006  manual     65   \n",
      "21371   02/04/2016 15:47     50       small              1997     NaN     44   \n",
      "207895  05/03/2016 19:45    275       sedan              1993  manual     75   \n",
      "299050  19/03/2016 20:38   2300       small              2001  manual     50   \n",
      "28026   05/03/2016 15:52   1499       small              2004  manual     60   \n",
      "210800  22/03/2016 08:36    650       wagon              2002     NaN      0   \n",
      "198403  16/03/2016 15:45   4700         NaN              2016  manual    140   \n",
      "\n",
      "          Model  Mileage  RegistrationMonth  FuelType       Brand NotRepaired  \\\n",
      "202299  phaeton   150000                  9  gasoline  volkswagen          no   \n",
      "59160      golf    70000                  3    petrol  volkswagen          no   \n",
      "62935     punto   150000                  2    petrol        fiat         yes   \n",
      "68887     other   150000                  4    petrol        fiat          no   \n",
      "21371     corsa   150000                  1    petrol        opel         NaN   \n",
      "207895      NaN   125000                  4       NaN        opel         yes   \n",
      "299050    arosa    90000                 10    petrol        seat          no   \n",
      "28026     punto   150000                 12    petrol        fiat          no   \n",
      "210800   mondeo   150000                  4  gasoline        ford         NaN   \n",
      "198403     golf   150000                  6  gasoline  volkswagen          no   \n",
      "\n",
      "             DateCreated  NumberOfPictures  PostalCode          LastSeen  \n",
      "202299  27/03/2016 00:00                 0       72293  06/04/2016 01:15  \n",
      "59160   08/03/2016 00:00                 0       22089  10/03/2016 21:45  \n",
      "62935   18/03/2016 00:00                 0       85778  05/04/2016 22:47  \n",
      "68887   04/04/2016 00:00                 0       42283  06/04/2016 18:46  \n",
      "21371   02/04/2016 00:00                 0       33181  02/04/2016 15:47  \n",
      "207895  05/03/2016 00:00                 0       50321  07/03/2016 11:46  \n",
      "299050  19/03/2016 00:00                 0       38239  07/04/2016 08:44  \n",
      "28026   05/03/2016 00:00                 0       51647  20/03/2016 02:45  \n",
      "210800  22/03/2016 00:00                 0       45881  22/03/2016 09:47  \n",
      "198403  16/03/2016 00:00                 0       20359  16/03/2016 15:45   \n",
      "\n",
      "<class 'pandas.core.frame.DataFrame'>\n",
      "RangeIndex: 354369 entries, 0 to 354368\n",
      "Data columns (total 16 columns):\n",
      " #   Column             Non-Null Count   Dtype \n",
      "---  ------             --------------   ----- \n",
      " 0   DateCrawled        354369 non-null  object\n",
      " 1   Price              354369 non-null  int64 \n",
      " 2   VehicleType        316879 non-null  object\n",
      " 3   RegistrationYear   354369 non-null  int64 \n",
      " 4   Gearbox            334536 non-null  object\n",
      " 5   Power              354369 non-null  int64 \n",
      " 6   Model              334664 non-null  object\n",
      " 7   Mileage            354369 non-null  int64 \n",
      " 8   RegistrationMonth  354369 non-null  int64 \n",
      " 9   FuelType           321474 non-null  object\n",
      " 10  Brand              354369 non-null  object\n",
      " 11  NotRepaired        283215 non-null  object\n",
      " 12  DateCreated        354369 non-null  object\n",
      " 13  NumberOfPictures   354369 non-null  int64 \n",
      " 14  PostalCode         354369 non-null  int64 \n",
      " 15  LastSeen           354369 non-null  object\n",
      "dtypes: int64(7), object(9)\n",
      "memory usage: 43.3+ MB\n",
      "None \n",
      "\n",
      "Missing values: \n",
      " DateCrawled              0\n",
      "Price                    0\n",
      "VehicleType          37490\n",
      "RegistrationYear         0\n",
      "Gearbox              19833\n",
      "Power                    0\n",
      "Model                19705\n",
      "Mileage                  0\n",
      "RegistrationMonth        0\n",
      "FuelType             32895\n",
      "Brand                    0\n",
      "NotRepaired          71154\n",
      "DateCreated              0\n",
      "NumberOfPictures         0\n",
      "PostalCode               0\n",
      "LastSeen                 0\n",
      "dtype: int64 \n",
      "\n",
      "Duplicated rows: \n",
      " 262\n"
     ]
    }
   ],
   "source": [
    "# Taking a look at the data\n",
    "print(data.sample(10), \"\\n\")\n",
    "\n",
    "print(data.info(), \"\\n\")\n",
    "\n",
    "print(\"Missing values: \\n\", data.isnull().sum(), \"\\n\")\n",
    "print(\"Duplicated rows: \\n\", data.duplicated().sum())"
   ]
  },
  {
   "cell_type": "code",
   "execution_count": 4,
   "id": "6e96b560",
   "metadata": {
    "scrolled": true
   },
   "outputs": [
    {
     "name": "stdout",
     "output_type": "stream",
     "text": [
      "New shape after dropping duplicates (354107, 16)\n"
     ]
    }
   ],
   "source": [
    "# Drop duplicates\n",
    "data = data.drop_duplicates()\n",
    "print(\"New shape after dropping duplicates\", data.shape)"
   ]
  },
  {
   "cell_type": "markdown",
   "id": "60cbed45",
   "metadata": {},
   "source": [
    "## Data Cleaning and Transformation\n",
    "\n",
    "**Converting column types and handling date formats**"
   ]
  },
  {
   "cell_type": "markdown",
   "id": "f7a63947",
   "metadata": {},
   "source": [
    "**Handling missing values**"
   ]
  },
  {
   "cell_type": "code",
   "execution_count": 5,
   "id": "058fc48f",
   "metadata": {
    "scrolled": true
   },
   "outputs": [
    {
     "name": "stdout",
     "output_type": "stream",
     "text": [
      "[nan 'coupe' 'suv' 'small' 'sedan' 'convertible' 'bus' 'wagon' 'other'] \n",
      "\n",
      "['manual' 'auto' nan] \n",
      "\n",
      "['golf' nan 'grand' 'fabia' '3er' '2_reihe' 'other' 'c_max' '3_reihe'\n",
      " 'passat' 'navara' 'ka' 'polo' 'twingo' 'a_klasse' 'scirocco' '5er'\n",
      " 'meriva' 'arosa' 'c4' 'civic' 'transporter' 'punto' 'e_klasse' 'clio'\n",
      " 'kadett' 'kangoo' 'corsa' 'one' 'fortwo' '1er' 'b_klasse' 'signum'\n",
      " 'astra' 'a8' 'jetta' 'fiesta' 'c_klasse' 'micra' 'vito' 'sprinter' '156'\n",
      " 'escort' 'forester' 'xc_reihe' 'scenic' 'a4' 'a1' 'insignia' 'combo'\n",
      " 'focus' 'tt' 'a6' 'jazz' 'omega' 'slk' '7er' '80' '147' '100' 'z_reihe'\n",
      " 'sportage' 'sorento' 'v40' 'ibiza' 'mustang' 'eos' 'touran' 'getz' 'a3'\n",
      " 'almera' 'megane' 'lupo' 'r19' 'zafira' 'caddy' 'mondeo' 'cordoba' 'colt'\n",
      " 'impreza' 'vectra' 'berlingo' 'tiguan' 'i_reihe' 'espace' 'sharan'\n",
      " '6_reihe' 'panda' 'up' 'seicento' 'ceed' '5_reihe' 'yeti' 'octavia' 'mii'\n",
      " 'rx_reihe' '6er' 'modus' 'fox' 'matiz' 'beetle' 'c1' 'rio' 'touareg'\n",
      " 'logan' 'spider' 'cuore' 's_max' 'a2' 'galaxy' 'c3' 'viano' 's_klasse'\n",
      " '1_reihe' 'avensis' 'roomster' 'sl' 'kaefer' 'santa' 'cooper' 'leon'\n",
      " '4_reihe' 'a5' '500' 'laguna' 'ptcruiser' 'clk' 'primera' 'x_reihe'\n",
      " 'exeo' '159' 'transit' 'juke' 'qashqai' 'carisma' 'accord' 'corolla'\n",
      " 'lanos' 'phaeton' 'verso' 'swift' 'rav' 'picanto' 'boxster' 'kalos'\n",
      " 'superb' 'stilo' 'alhambra' 'mx_reihe' 'roadster' 'ypsilon' 'cayenne'\n",
      " 'galant' 'justy' '90' 'sirion' 'crossfire' 'agila' 'duster' 'cr_reihe'\n",
      " 'v50' 'c_reihe' 'v_klasse' 'm_klasse' 'yaris' 'c5' 'aygo' 'cc' 'carnival'\n",
      " 'fusion' '911' 'bora' 'forfour' 'm_reihe' 'cl' 'tigra' '300c' 'spark'\n",
      " 'v70' 'kuga' 'x_type' 'ducato' 's_type' 'x_trail' 'toledo' 'altea'\n",
      " 'voyager' 'calibra' 'bravo' 'antara' 'tucson' 'citigo' 'jimny' 'wrangler'\n",
      " 'lybra' 'q7' 'lancer' 'captiva' 'c2' 'discovery' 'freelander' 'sandero'\n",
      " 'note' '900' 'cherokee' 'clubman' 'samara' 'defender' '601' 'cx_reihe'\n",
      " 'legacy' 'pajero' 'auris' 'niva' 's60' 'nubira' 'vivaro' 'g_klasse'\n",
      " 'lodgy' '850' 'range_rover' 'q3' 'serie_2' 'glk' 'charade' 'croma'\n",
      " 'outlander' 'doblo' 'musa' 'move' '9000' 'v60' '145' 'aveo' '200' 'b_max'\n",
      " 'range_rover_sport' 'terios' 'rangerover' 'q5' 'range_rover_evoque'\n",
      " 'materia' 'delta' 'gl' 'kalina' 'amarok' 'elefantino' 'i3' 'kappa'\n",
      " 'serie_3' 'serie_1'] \n",
      "\n",
      "['petrol' 'gasoline' nan 'lpg' 'other' 'hybrid' 'cng' 'electric'] \n",
      "\n",
      "[nan 'yes' 'no'] \n",
      "\n",
      "Remaining NaNs:\n",
      " DateCrawled          0\n",
      "Price                0\n",
      "VehicleType          0\n",
      "RegistrationYear     0\n",
      "Gearbox              0\n",
      "Power                0\n",
      "Model                0\n",
      "Mileage              0\n",
      "RegistrationMonth    0\n",
      "FuelType             0\n",
      "Brand                0\n",
      "NotRepaired          0\n",
      "DateCreated          0\n",
      "NumberOfPictures     0\n",
      "PostalCode           0\n",
      "LastSeen             0\n",
      "dtype: int64\n"
     ]
    }
   ],
   "source": [
    "nan_columns = ['VehicleType', 'Gearbox', 'Model', 'FuelType', 'NotRepaired']\n",
    "\n",
    "# Check the unique values before replacing\n",
    "for col in nan_columns:\n",
    "    print(data[col].unique(), \"\\n\")\n",
    "\n",
    "# Replacing the NaNs with \"unknown\"\n",
    "data[nan_columns] = data[nan_columns].fillna(\"unknown\")\n",
    "\n",
    "# Check if NaNs were successfully removed\n",
    "print(\"Remaining NaNs:\\n\", data.isna().sum())"
   ]
  },
  {
   "cell_type": "code",
   "execution_count": 6,
   "id": "470620b1",
   "metadata": {
    "scrolled": false
   },
   "outputs": [
    {
     "name": "stdout",
     "output_type": "stream",
     "text": [
      "Successfully converted to datetime\n",
      "Successfully converted to datetime\n",
      "Successfully converted to datetime\n"
     ]
    }
   ],
   "source": [
    "# Convert date columns\n",
    "date_columns = ['DateCrawled', 'DateCreated','LastSeen']\n",
    "\n",
    "for col in date_columns:\n",
    "    try:\n",
    "        data[col] = pd.to_datetime(data[col], format='%d/%m/%Y %H:%M') # Try converting to datetime\n",
    "        print(\"Successfully converted to datetime\")\n",
    "    except Exception as e:\n",
    "        print(\"Could not be converted:\", e)"
   ]
  },
  {
   "cell_type": "markdown",
   "id": "8a047f75",
   "metadata": {},
   "source": [
    "**Addressing incorrect 'Model' namess**\n",
    "\n",
    "I noticed there are car models in German. We'll fix those values."
   ]
  },
  {
   "cell_type": "code",
   "execution_count": 7,
   "id": "4482041d",
   "metadata": {
    "scrolled": false
   },
   "outputs": [
    {
     "name": "stdout",
     "output_type": "stream",
     "text": [
      "Before changes: \n",
      " ['100', '145', '147', '156', '159', '1_reihe', '1er', '200', '2_reihe', '300c', '3_reihe', '3er', '4_reihe', '500', '5_reihe', '5er', '601', '6_reihe', '6er', '7er', '80', '850', '90', '900', '9000', '911', 'a1', 'a2', 'a3', 'a4', 'a5', 'a6', 'a8', 'a_klasse', 'accord', 'agila', 'alhambra', 'almera', 'altea', 'amarok', 'antara', 'arosa', 'astra', 'auris', 'avensis', 'aveo', 'aygo', 'b_klasse', 'b_max', 'beetle', 'berlingo', 'bora', 'boxster', 'bravo', 'c1', 'c2', 'c3', 'c4', 'c5', 'c_klasse', 'c_max', 'c_reihe', 'caddy', 'calibra', 'captiva', 'carisma', 'carnival', 'cayenne', 'cc', 'ceed', 'charade', 'cherokee', 'citigo', 'civic', 'cl', 'clio', 'clk', 'clubman', 'colt', 'combo', 'cooper', 'cordoba', 'corolla', 'corsa', 'cr_reihe', 'croma', 'crossfire', 'cuore', 'cx_reihe', 'defender', 'delta', 'discovery', 'doblo', 'ducato', 'duster', 'e_klasse', 'elefantino', 'eos', 'escort', 'espace', 'exeo', 'fabia', 'fiesta', 'focus', 'forester', 'forfour', 'fortwo', 'fox', 'freelander', 'fusion', 'g_klasse', 'galant', 'galaxy', 'getz', 'gl', 'glk', 'golf', 'grand', 'i3', 'i_reihe', 'ibiza', 'impreza', 'insignia', 'jazz', 'jetta', 'jimny', 'juke', 'justy', 'ka', 'kadett', 'kaefer', 'kalina', 'kalos', 'kangoo', 'kappa', 'kuga', 'laguna', 'lancer', 'lanos', 'legacy', 'leon', 'lodgy', 'logan', 'lupo', 'lybra', 'm_klasse', 'm_reihe', 'materia', 'matiz', 'megane', 'meriva', 'micra', 'mii', 'modus', 'mondeo', 'move', 'musa', 'mustang', 'mx_reihe', 'navara', 'niva', 'note', 'nubira', 'octavia', 'omega', 'one', 'other', 'outlander', 'pajero', 'panda', 'passat', 'phaeton', 'picanto', 'polo', 'primera', 'ptcruiser', 'punto', 'q3', 'q5', 'q7', 'qashqai', 'r19', 'range_rover', 'range_rover_evoque', 'range_rover_sport', 'rangerover', 'rav', 'rio', 'roadster', 'roomster', 'rx_reihe', 's60', 's_klasse', 's_max', 's_type', 'samara', 'sandero', 'santa', 'scenic', 'scirocco', 'seicento', 'serie_1', 'serie_2', 'serie_3', 'sharan', 'signum', 'sirion', 'sl', 'slk', 'sorento', 'spark', 'spider', 'sportage', 'sprinter', 'stilo', 'superb', 'swift', 'terios', 'tigra', 'tiguan', 'toledo', 'touareg', 'touran', 'transit', 'transporter', 'tt', 'tucson', 'twingo', 'unknown', 'up', 'v40', 'v50', 'v60', 'v70', 'v_klasse', 'vectra', 'verso', 'viano', 'vito', 'vivaro', 'voyager', 'wrangler', 'x_reihe', 'x_trail', 'x_type', 'xc_reihe', 'yaris', 'yeti', 'ypsilon', 'z_reihe', 'zafira']\n"
     ]
    }
   ],
   "source": [
    "# Make sure all the car models are lowercase\n",
    "data['Model'] = data['Model'].str.lower()\n",
    "\n",
    "# Fix the range rover issues\n",
    "unique_models = sorted(data['Model'].unique())\n",
    "\n",
    "print(\"Before changes: \\n\", unique_models)"
   ]
  },
  {
   "cell_type": "code",
   "execution_count": 8,
   "id": "7e7a2f91",
   "metadata": {
    "scrolled": true
   },
   "outputs": [
    {
     "name": "stdout",
     "output_type": "stream",
     "text": [
      "After Changes: \n",
      " ['100', '145', '147', '156', '159', '1_series', '200', '2_series', '300c', '3_series', '4_series', '500', '5_series', '601', '6_series', '7_series', '80', '850', '90', '900', '9000', '911', 'a1', 'a2', 'a3', 'a4', 'a5', 'a6', 'a8', 'a_klasse', 'accord', 'agila', 'alhambra', 'almera', 'altea', 'amarok', 'antara', 'arosa', 'astra', 'audi_tt', 'auris', 'avensis', 'aveo', 'aygo', 'b_klasse', 'b_max', 'beetle', 'berlingo', 'bora', 'boxster', 'bravo', 'c1', 'c2', 'c3', 'c4', 'c5', 'c_class', 'c_max', 'c_series', 'caddy', 'calibra', 'captiva', 'carisma', 'carnival', 'cayenne', 'cc', 'ceed', 'charade', 'cherokee', 'citigo', 'civic', 'cl', 'clio', 'clk', 'clubman', 'colt', 'combo', 'cooper', 'cordoba', 'corolla', 'corsa', 'cr_series', 'croma', 'crossfire', 'cuore', 'cx_series', 'defender', 'delta', 'discovery', 'doblo', 'ducato', 'duster', 'e_class', 'elefantino', 'eos', 'escort', 'espace', 'exeo', 'fabia', 'fiesta', 'focus', 'forester', 'forfour', 'fortwo', 'fox', 'freelander', 'fusion', 'g_klasse', 'galant', 'galaxy', 'getz', 'gl', 'glk', 'golf', 'grand', 'i3', 'i_series', 'ibiza', 'impreza', 'insignia', 'jazz', 'jetta', 'jimny', 'juke', 'justy', 'ka', 'kadett', 'kaefer', 'kalina', 'kalos', 'kangoo', 'kappa', 'kuga', 'laguna', 'lancer', 'lanos', 'legacy', 'leon', 'lodgy', 'logan', 'lupo', 'lybra', 'm_class', 'm_series', 'materia', 'matiz', 'megane', 'meriva', 'micra', 'mii', 'modus', 'mondeo', 'move', 'musa', 'mustang', 'mx_series', 'navara', 'niva', 'note', 'nubira', 'octavia', 'omega', 'one', 'other', 'outlander', 'pajero', 'panda', 'passat', 'phaeton', 'picanto', 'polo', 'primera', 'ptcruiser', 'punto', 'q3', 'q5', 'q7', 'qashqai', 'r19', 'range_rover', 'range_rover_evoque', 'range_rover_sport', 'rav', 'rio', 'roadster', 'roomster', 'rx_series', 's60', 's_class', 's_max', 's_type', 'samara', 'sandero', 'santa', 'scenic', 'scirocco', 'seicento', 'sharan', 'signum', 'sirion', 'sl', 'slk', 'sorento', 'spark', 'spider', 'sportage', 'sprinter', 'stilo', 'superb', 'swift', 'terios', 'tigra', 'tiguan', 'toledo', 'touareg', 'touran', 'transit', 'transporter', 'tucson', 'twingo', 'unknown', 'up', 'v40', 'v50', 'v60', 'v70', 'v_class', 'vectra', 'verso', 'viano', 'vito', 'vivaro', 'voyager', 'wrangler', 'x_series', 'x_trail', 'x_type', 'xc_series', 'yaris', 'yeti', 'ypsilon', 'z_series', 'zafira'] \n",
      "\n",
      "251 243 \n",
      "\n",
      "Model\n",
      "golf                  29215\n",
      "other                 24402\n",
      "3_series              23239\n",
      "unknown               19701\n",
      "polo                  13057\n",
      "                      ...  \n",
      "gl                       13\n",
      "elefantino               11\n",
      "kalina                    9\n",
      "i3                        8\n",
      "range_rover_evoque        2\n",
      "Name: count, Length: 243, dtype: int64\n"
     ]
    }
   ],
   "source": [
    "# Mapping the German to English, keeping underscores\n",
    "replacement_dict = {\n",
    "    '1_reihe': '1_series', '1er': '1_series', 'serie_1': '1_series',\n",
    "    '2_reihe': '2_series', 'serie_2': '2_series',\n",
    "    '3_reihe': '3_series', '3er': '3_series', 'serie_3': '3_series',\n",
    "    '4_reihe': '4_series',\n",
    "    '5_reihe': '5_series', '5er': '5_series',\n",
    "    '6_reihe': '6_series', '6er': '6_series',\n",
    "    '7er': '7_series',\n",
    "    'c_klasse': 'c_class',\n",
    "    'e_klasse': 'e_class',\n",
    "    'm_klasse': 'm_class',\n",
    "    's_klasse': 's_class',\n",
    "    'v_klasse': 'v_class',\n",
    "    \n",
    "    # Range Rover fixes\n",
    "    'rangerover': 'range_rover',\n",
    "    \n",
    "    # Other car series fixes\n",
    "    'c_reihe': 'c_series',\n",
    "    'cr_reihe': 'cr_series',\n",
    "    'cx_reihe': 'cx_series',\n",
    "    'i_reihe': 'i_series',\n",
    "    'm_reihe': 'm_series',\n",
    "    'mx_reihe': 'mx_series',\n",
    "    'rx_reihe': 'rx_series',\n",
    "    'x_reihe': 'x_series',\n",
    "    'xc_reihe': 'xc_series',\n",
    "    'z_reihe': 'z_series',\n",
    "    'tt': 'audi_tt'  # To make it more clear it's a model\n",
    "    \n",
    "}\n",
    "\n",
    "# Apply the changes\n",
    "data['Model'] = data['Model'].replace(replacement_dict)\n",
    "\n",
    "# Check the new unique models after translation\n",
    "after_changes = sorted(data['Model'].unique())\n",
    "print(\"After Changes: \\n\", after_changes, \"\\n\")\n",
    "\n",
    "\n",
    "# Comparing the changes to check \n",
    "print(len(unique_models), len(after_changes), \"\\n\")\n",
    "\n",
    "print(data['Model'].value_counts())"
   ]
  },
  {
   "cell_type": "code",
   "execution_count": 9,
   "id": "3317f698",
   "metadata": {
    "scrolled": true
   },
   "outputs": [
    {
     "name": "stdout",
     "output_type": "stream",
     "text": [
      "FuelType\n",
      "gasoline       314819\n",
      "unknown         32889\n",
      "natural_gas      5872\n",
      "hybrid            233\n",
      "other             204\n",
      "electric           90\n",
      "Name: count, dtype: int64\n"
     ]
    }
   ],
   "source": [
    "# Correcting 'FuelType' \n",
    "data['FuelType'].value_counts()\n",
    "\n",
    "# Mapping fuel types\n",
    "\n",
    "fuel_dict = {\n",
    "    'petrol': 'gasoline',\n",
    "    'lpg': 'natural_gas', 'cng': 'natural_gas'\n",
    "}\n",
    "\n",
    "data['FuelType'] = data['FuelType'].replace(fuel_dict)\n",
    "\n",
    "print(data['FuelType'].value_counts())"
   ]
  },
  {
   "cell_type": "markdown",
   "id": "34d5c450",
   "metadata": {},
   "source": [
    "**Addressing the numerical column data**"
   ]
  },
  {
   "cell_type": "code",
   "execution_count": 10,
   "id": "16ef970c",
   "metadata": {},
   "outputs": [
    {
     "name": "stdout",
     "output_type": "stream",
     "text": [
      "0.00048290488468174874\n",
      "0\n"
     ]
    }
   ],
   "source": [
    "# Cleaning `RegistrationYear`\n",
    "\n",
    "# Set some logical bounds to the year data\n",
    "min_year = 1910\n",
    "max_year = 2020\n",
    "\n",
    "# Replace extreme years with NaN\n",
    "data['RegistrationYear'] = data['RegistrationYear'].where(data['RegistrationYear'].between(min_year, max_year))\n",
    "data['RegistrationYear'] = data['RegistrationYear'].fillna(np.NaN)\n",
    "\n",
    "# Percentage of NaNs\n",
    "print(data['RegistrationYear'].isna().sum()/len(data['RegistrationYear']))\n",
    "\n",
    "# Dropping the NaNs in 'RegistrationYear'\n",
    "data = data.dropna(subset=['RegistrationYear'])\n",
    "data['RegistrationYear'] = data['RegistrationYear'].astype('int') # Convert to int\n",
    "\n",
    "# Checking our work\n",
    "print(data['RegistrationYear'].isna().sum()) "
   ]
  },
  {
   "cell_type": "code",
   "execution_count": 11,
   "id": "be611d52",
   "metadata": {},
   "outputs": [
    {
     "name": "stdout",
     "output_type": "stream",
     "text": [
      "RegistrationMonth value counts: RegistrationMonth\n",
      "0     37215\n",
      "3     34343\n",
      "6     31464\n",
      "4     29242\n",
      "5     29127\n",
      "7     27183\n",
      "10    26075\n",
      "12    24269\n",
      "11    24165\n",
      "9     23796\n",
      "1     23197\n",
      "8     22609\n",
      "2     21251\n",
      "Name: count, dtype: int64\n"
     ]
    }
   ],
   "source": [
    "# Cleaning 'RegistrationMonth'\n",
    "print(\"RegistrationMonth value counts:\", data['RegistrationMonth'].value_counts())\n",
    "\n",
    "# Replacing '0' values with NaN\n",
    "data['RegistrationMonth'] = data['RegistrationMonth'].replace(0, None)"
   ]
  },
  {
   "cell_type": "code",
   "execution_count": 12,
   "id": "d9e62e82",
   "metadata": {},
   "outputs": [
    {
     "name": "stderr",
     "output_type": "stream",
     "text": [
      "/var/folders/8p/b88wy49j5cz5wcfnmlkzbmlc0000gn/T/ipykernel_82497/3121372650.py:3: FutureWarning: Downcasting object dtype arrays on .fillna, .ffill, .bfill is deprecated and will change in a future version. Call result.infer_objects(copy=False) instead. To opt-in to the future behavior, set `pd.set_option('future.no_silent_downcasting', True)`\n",
      "  data_heatmap['RegistrationMonth'] = data_heatmap['RegistrationMonth'].fillna(data_heatmap['RegistrationMonth'].median())\n"
     ]
    }
   ],
   "source": [
    "# Filling the NaNs in with median month\n",
    "data_heatmap = data.copy()\n",
    "data_heatmap['RegistrationMonth'] = data_heatmap['RegistrationMonth'].fillna(data_heatmap['RegistrationMonth'].median())"
   ]
  },
  {
   "cell_type": "code",
   "execution_count": 13,
   "id": "e29724c6",
   "metadata": {},
   "outputs": [
    {
     "name": "stderr",
     "output_type": "stream",
     "text": [
      "/Users/lrw/anaconda3/lib/python3.11/site-packages/seaborn/matrix.py:260: FutureWarning: Format strings passed to MaskedConstant are ignored, but in future may error or produce different behavior\n",
      "  annotation = (\"{:\" + self.fmt + \"}\").format(val)\n"
     ]
    },
    {
     "data": {
      "image/png": "[encoded data removed]",
      "text/plain": [
       "<Figure size 1000x600 with 2 Axes>"
      ]
     },
     "metadata": {},
     "output_type": "display_data"
    }
   ],
   "source": [
    "# Creating a heatmap to assess correlation with price\n",
    "# Corr matrix\n",
    "corr_matrix = data_heatmap.select_dtypes(include=['number']).corr()\n",
    "\n",
    "# Plot heatmap\n",
    "plt.figure(figsize=(10, 6))\n",
    "sns.heatmap(corr_matrix, annot=True, fmt=\".2f\", cmap=\"coolwarm\", linewidths=0.5)\n",
    "plt.title(\"Feature Correlation Heatmap (NaNs Filled for Visualization)\")\n",
    "plt.show()\n",
    "\n",
    "# Since`RegistrationMonth` has a low corr value, we drop it\n",
    "data = data.drop('RegistrationMonth', axis=1)"
   ]
  },
  {
   "cell_type": "markdown",
   "id": "12d9f33d",
   "metadata": {},
   "source": [
    "**Fixing Outliers**"
   ]
  },
  {
   "cell_type": "code",
   "execution_count": 14,
   "id": "224dc893",
   "metadata": {},
   "outputs": [
    {
     "name": "stdout",
     "output_type": "stream",
     "text": [
      "Power\n",
      "0       40091\n",
      "75      23998\n",
      "60      15879\n",
      "150     14571\n",
      "101     13286\n",
      "        ...  \n",
      "2461        1\n",
      "6006        1\n",
      "5815        1\n",
      "6018        1\n",
      "1241        1\n",
      "Name: count, Length: 711, dtype: int64\n"
     ]
    },
    {
     "data": {
      "image/png": "[encoded data removed]",
      "text/plain": [
       "<Figure size 800x800 with 1 Axes>"
      ]
     },
     "metadata": {},
     "output_type": "display_data"
    },
    {
     "name": "stdout",
     "output_type": "stream",
     "text": [
      "count    353936.000000\n",
      "mean        110.073542\n",
      "std         189.601238\n",
      "min           0.000000\n",
      "25%          69.000000\n",
      "50%         105.000000\n",
      "75%         143.000000\n",
      "max       20000.000000\n",
      "Name: Power, dtype: float64\n"
     ]
    }
   ],
   "source": [
    "# Examining the 'Power' outliers\n",
    "print(data['Power'].value_counts())\n",
    "\n",
    "# Create a boxplot for 'Power'\n",
    "plt.figure(figsize=(8,8))\n",
    "plt.boxplot(data['Power'])\n",
    "plt.title('Boxplot of \\'Power\\'')\n",
    "plt.ylabel('Values')\n",
    "plt.show()\n",
    "\n",
    "print(data['Power'].describe())"
   ]
  },
  {
   "cell_type": "code",
   "execution_count": 15,
   "id": "3f6172cc",
   "metadata": {},
   "outputs": [
    {
     "data": {
      "image/png": "[encoded data removed]",
      "text/plain": [
       "<Figure size 800x800 with 1 Axes>"
      ]
     },
     "metadata": {},
     "output_type": "display_data"
    },
    {
     "name": "stdout",
     "output_type": "stream",
     "text": [
      "count    353936.000000\n",
      "mean        118.816181\n",
      "std          49.455662\n",
      "min           1.000000\n",
      "25%          84.000000\n",
      "50%         110.000000\n",
      "75%         143.000000\n",
      "max         306.000000\n",
      "Name: Power, dtype: float64\n"
     ]
    }
   ],
   "source": [
    "# Fix 'Power' outliers \n",
    "max_power_threshold = data[data['Power'] > 0]['Power'].quantile(0.99)\n",
    "median_power = data[(data['Power'] > 0) & (data['Power'] <= max_power_threshold)]['Power'].median()\n",
    "\n",
    "\n",
    "# Cap the extreme values\n",
    "data.loc[data['Power'] > max_power_threshold, 'Power'] = max_power_threshold\n",
    "\n",
    "# Replace zero values with the new median\n",
    "data.loc[data['Power'] == 0, 'Power'] = median_power\n",
    "\n",
    "# Create a boxplot for new 'Power' values\n",
    "plt.figure(figsize=(8,8))\n",
    "plt.boxplot(data['Power'])\n",
    "plt.title('Boxplot of \\'Power\\'')\n",
    "plt.ylabel('Values')\n",
    "plt.show()\n",
    "\n",
    "# Checking our work\n",
    "print(data['Power'].describe())"
   ]
  },
  {
   "cell_type": "code",
   "execution_count": 16,
   "id": "1bcdfd9a",
   "metadata": {
    "scrolled": true
   },
   "outputs": [
    {
     "name": "stdout",
     "output_type": "stream",
     "text": [
      "[0]\n"
     ]
    }
   ],
   "source": [
    "# Cleaning the 'NumberofPictures' column\n",
    "print(data['NumberOfPictures'].unique())\n",
    "\n",
    "data = data.drop('NumberOfPictures', axis=1)"
   ]
  },
  {
   "cell_type": "markdown",
   "id": "6187438d",
   "metadata": {},
   "source": [
    "**Checking our work**"
   ]
  },
  {
   "cell_type": "code",
   "execution_count": 17,
   "id": "bef36102",
   "metadata": {},
   "outputs": [
    {
     "name": "stdout",
     "output_type": "stream",
     "text": [
      "<class 'pandas.core.frame.DataFrame'>\n",
      "Index: 353936 entries, 0 to 354368\n",
      "Data columns (total 14 columns):\n",
      " #   Column            Non-Null Count   Dtype         \n",
      "---  ------            --------------   -----         \n",
      " 0   DateCrawled       353936 non-null  datetime64[ns]\n",
      " 1   Price             353936 non-null  int64         \n",
      " 2   VehicleType       353936 non-null  object        \n",
      " 3   RegistrationYear  353936 non-null  int64         \n",
      " 4   Gearbox           353936 non-null  object        \n",
      " 5   Power             353936 non-null  int64         \n",
      " 6   Model             353936 non-null  object        \n",
      " 7   Mileage           353936 non-null  int64         \n",
      " 8   FuelType          353936 non-null  object        \n",
      " 9   Brand             353936 non-null  object        \n",
      " 10  NotRepaired       353936 non-null  object        \n",
      " 11  DateCreated       353936 non-null  datetime64[ns]\n",
      " 12  PostalCode        353936 non-null  int64         \n",
      " 13  LastSeen          353936 non-null  datetime64[ns]\n",
      "dtypes: datetime64[ns](3), int64(5), object(6)\n",
      "memory usage: 40.5+ MB\n"
     ]
    }
   ],
   "source": [
    "# Check our work\n",
    "data.info()"
   ]
  },
  {
   "cell_type": "code",
   "execution_count": 18,
   "id": "91482626",
   "metadata": {
    "scrolled": false
   },
   "outputs": [
    {
     "data": {
      "text/html": [
       "<div>\n",
       "<style scoped>\n",
       "    .dataframe tbody tr th:only-of-type {\n",
       "        vertical-align: middle;\n",
       "    }\n",
       "\n",
       "    .dataframe tbody tr th {\n",
       "        vertical-align: top;\n",
       "    }\n",
       "\n",
       "    .dataframe thead th {\n",
       "        text-align: right;\n",
       "    }\n",
       "</style>\n",
       "<table border=\"1\" class=\"dataframe\">\n",
       "  <thead>\n",
       "    <tr style=\"text-align: right;\">\n",
       "      <th></th>\n",
       "      <th>DateCrawled</th>\n",
       "      <th>Price</th>\n",
       "      <th>RegistrationYear</th>\n",
       "      <th>Power</th>\n",
       "      <th>Mileage</th>\n",
       "      <th>DateCreated</th>\n",
       "      <th>PostalCode</th>\n",
       "      <th>LastSeen</th>\n",
       "    </tr>\n",
       "  </thead>\n",
       "  <tbody>\n",
       "    <tr>\n",
       "      <th>count</th>\n",
       "      <td>353936</td>\n",
       "      <td>353936.000000</td>\n",
       "      <td>353936.000000</td>\n",
       "      <td>353936.000000</td>\n",
       "      <td>353936.000000</td>\n",
       "      <td>353936</td>\n",
       "      <td>353936.000000</td>\n",
       "      <td>353936</td>\n",
       "    </tr>\n",
       "    <tr>\n",
       "      <th>mean</th>\n",
       "      <td>2016-03-21 12:56:37.289623296</td>\n",
       "      <td>4417.428453</td>\n",
       "      <td>2003.084846</td>\n",
       "      <td>118.816181</td>\n",
       "      <td>128268.288617</td>\n",
       "      <td>2016-03-20 19:11:01.461958912</td>\n",
       "      <td>50510.251308</td>\n",
       "      <td>2016-03-29 23:50:55.514613248</td>\n",
       "    </tr>\n",
       "    <tr>\n",
       "      <th>min</th>\n",
       "      <td>2016-03-05 14:06:00</td>\n",
       "      <td>0.000000</td>\n",
       "      <td>1910.000000</td>\n",
       "      <td>1.000000</td>\n",
       "      <td>5000.000000</td>\n",
       "      <td>2014-03-10 00:00:00</td>\n",
       "      <td>1067.000000</td>\n",
       "      <td>2016-03-05 14:15:00</td>\n",
       "    </tr>\n",
       "    <tr>\n",
       "      <th>25%</th>\n",
       "      <td>2016-03-13 11:52:00</td>\n",
       "      <td>1050.000000</td>\n",
       "      <td>1999.000000</td>\n",
       "      <td>84.000000</td>\n",
       "      <td>125000.000000</td>\n",
       "      <td>2016-03-13 00:00:00</td>\n",
       "      <td>30165.000000</td>\n",
       "      <td>2016-03-23 02:50:00</td>\n",
       "    </tr>\n",
       "    <tr>\n",
       "      <th>50%</th>\n",
       "      <td>2016-03-21 17:50:00</td>\n",
       "      <td>2700.000000</td>\n",
       "      <td>2003.000000</td>\n",
       "      <td>110.000000</td>\n",
       "      <td>150000.000000</td>\n",
       "      <td>2016-03-21 00:00:00</td>\n",
       "      <td>49413.000000</td>\n",
       "      <td>2016-04-03 15:15:00</td>\n",
       "    </tr>\n",
       "    <tr>\n",
       "      <th>75%</th>\n",
       "      <td>2016-03-29 14:36:00</td>\n",
       "      <td>6400.000000</td>\n",
       "      <td>2008.000000</td>\n",
       "      <td>143.000000</td>\n",
       "      <td>150000.000000</td>\n",
       "      <td>2016-03-29 00:00:00</td>\n",
       "      <td>71083.000000</td>\n",
       "      <td>2016-04-06 10:15:00</td>\n",
       "    </tr>\n",
       "    <tr>\n",
       "      <th>max</th>\n",
       "      <td>2016-04-07 14:36:00</td>\n",
       "      <td>20000.000000</td>\n",
       "      <td>2019.000000</td>\n",
       "      <td>306.000000</td>\n",
       "      <td>150000.000000</td>\n",
       "      <td>2016-04-07 00:00:00</td>\n",
       "      <td>99998.000000</td>\n",
       "      <td>2016-04-07 14:58:00</td>\n",
       "    </tr>\n",
       "    <tr>\n",
       "      <th>std</th>\n",
       "      <td>NaN</td>\n",
       "      <td>4514.261174</td>\n",
       "      <td>7.537331</td>\n",
       "      <td>49.455662</td>\n",
       "      <td>37824.728828</td>\n",
       "      <td>NaN</td>\n",
       "      <td>25784.581168</td>\n",
       "      <td>NaN</td>\n",
       "    </tr>\n",
       "  </tbody>\n",
       "</table>\n",
       "</div>"
      ],
      "text/plain": [
       "                         DateCrawled          Price  RegistrationYear  \\\n",
       "count                         353936  353936.000000     353936.000000   \n",
       "mean   2016-03-21 12:56:37.289623296    4417.428453       2003.084846   \n",
       "min              2016-03-05 14:06:00       0.000000       1910.000000   \n",
       "25%              2016-03-13 11:52:00    1050.000000       1999.000000   \n",
       "50%              2016-03-21 17:50:00    2700.000000       2003.000000   \n",
       "75%              2016-03-29 14:36:00    6400.000000       2008.000000   \n",
       "max              2016-04-07 14:36:00   20000.000000       2019.000000   \n",
       "std                              NaN    4514.261174          7.537331   \n",
       "\n",
       "               Power        Mileage                    DateCreated  \\\n",
       "count  353936.000000  353936.000000                         353936   \n",
       "mean      118.816181  128268.288617  2016-03-20 19:11:01.461958912   \n",
       "min         1.000000    5000.000000            2014-03-10 00:00:00   \n",
       "25%        84.000000  125000.000000            2016-03-13 00:00:00   \n",
       "50%       110.000000  150000.000000            2016-03-21 00:00:00   \n",
       "75%       143.000000  150000.000000            2016-03-29 00:00:00   \n",
       "max       306.000000  150000.000000            2016-04-07 00:00:00   \n",
       "std        49.455662   37824.728828                            NaN   \n",
       "\n",
       "          PostalCode                       LastSeen  \n",
       "count  353936.000000                         353936  \n",
       "mean    50510.251308  2016-03-29 23:50:55.514613248  \n",
       "min      1067.000000            2016-03-05 14:15:00  \n",
       "25%     30165.000000            2016-03-23 02:50:00  \n",
       "50%     49413.000000            2016-04-03 15:15:00  \n",
       "75%     71083.000000            2016-04-06 10:15:00  \n",
       "max     99998.000000            2016-04-07 14:58:00  \n",
       "std     25784.581168                            NaN  "
      ]
     },
     "execution_count": 18,
     "metadata": {},
     "output_type": "execute_result"
    }
   ],
   "source": [
    "# Reviewing the numerical columns\n",
    "data.describe()"
   ]
  },
  {
   "cell_type": "code",
   "execution_count": 19,
   "id": "f6fee4b9",
   "metadata": {},
   "outputs": [
    {
     "data": {
      "text/plain": [
       "(353936, 14)"
      ]
     },
     "execution_count": 19,
     "metadata": {},
     "output_type": "execute_result"
    }
   ],
   "source": [
    "data.shape"
   ]
  },
  {
   "cell_type": "code",
   "execution_count": 20,
   "id": "4ad0a529",
   "metadata": {
    "scrolled": true
   },
   "outputs": [
    {
     "data": {
      "text/html": [
       "<div>\n",
       "<style scoped>\n",
       "    .dataframe tbody tr th:only-of-type {\n",
       "        vertical-align: middle;\n",
       "    }\n",
       "\n",
       "    .dataframe tbody tr th {\n",
       "        vertical-align: top;\n",
       "    }\n",
       "\n",
       "    .dataframe thead th {\n",
       "        text-align: right;\n",
       "    }\n",
       "</style>\n",
       "<table border=\"1\" class=\"dataframe\">\n",
       "  <thead>\n",
       "    <tr style=\"text-align: right;\">\n",
       "      <th></th>\n",
       "      <th>DateCrawled</th>\n",
       "      <th>Price</th>\n",
       "      <th>VehicleType</th>\n",
       "      <th>RegistrationYear</th>\n",
       "      <th>Gearbox</th>\n",
       "      <th>Power</th>\n",
       "      <th>Model</th>\n",
       "      <th>Mileage</th>\n",
       "      <th>FuelType</th>\n",
       "      <th>Brand</th>\n",
       "      <th>NotRepaired</th>\n",
       "      <th>DateCreated</th>\n",
       "      <th>PostalCode</th>\n",
       "      <th>LastSeen</th>\n",
       "    </tr>\n",
       "  </thead>\n",
       "  <tbody>\n",
       "    <tr>\n",
       "      <th>0</th>\n",
       "      <td>2016-03-24 11:52:00</td>\n",
       "      <td>480</td>\n",
       "      <td>unknown</td>\n",
       "      <td>1993</td>\n",
       "      <td>manual</td>\n",
       "      <td>110</td>\n",
       "      <td>golf</td>\n",
       "      <td>150000</td>\n",
       "      <td>gasoline</td>\n",
       "      <td>volkswagen</td>\n",
       "      <td>unknown</td>\n",
       "      <td>2016-03-24</td>\n",
       "      <td>70435</td>\n",
       "      <td>2016-04-07 03:16:00</td>\n",
       "    </tr>\n",
       "    <tr>\n",
       "      <th>1</th>\n",
       "      <td>2016-03-24 10:58:00</td>\n",
       "      <td>18300</td>\n",
       "      <td>coupe</td>\n",
       "      <td>2011</td>\n",
       "      <td>manual</td>\n",
       "      <td>190</td>\n",
       "      <td>unknown</td>\n",
       "      <td>125000</td>\n",
       "      <td>gasoline</td>\n",
       "      <td>audi</td>\n",
       "      <td>yes</td>\n",
       "      <td>2016-03-24</td>\n",
       "      <td>66954</td>\n",
       "      <td>2016-04-07 01:46:00</td>\n",
       "    </tr>\n",
       "    <tr>\n",
       "      <th>2</th>\n",
       "      <td>2016-03-14 12:52:00</td>\n",
       "      <td>9800</td>\n",
       "      <td>suv</td>\n",
       "      <td>2004</td>\n",
       "      <td>auto</td>\n",
       "      <td>163</td>\n",
       "      <td>grand</td>\n",
       "      <td>125000</td>\n",
       "      <td>gasoline</td>\n",
       "      <td>jeep</td>\n",
       "      <td>unknown</td>\n",
       "      <td>2016-03-14</td>\n",
       "      <td>90480</td>\n",
       "      <td>2016-04-05 12:47:00</td>\n",
       "    </tr>\n",
       "    <tr>\n",
       "      <th>3</th>\n",
       "      <td>2016-03-17 16:54:00</td>\n",
       "      <td>1500</td>\n",
       "      <td>small</td>\n",
       "      <td>2001</td>\n",
       "      <td>manual</td>\n",
       "      <td>75</td>\n",
       "      <td>golf</td>\n",
       "      <td>150000</td>\n",
       "      <td>gasoline</td>\n",
       "      <td>volkswagen</td>\n",
       "      <td>no</td>\n",
       "      <td>2016-03-17</td>\n",
       "      <td>91074</td>\n",
       "      <td>2016-03-17 17:40:00</td>\n",
       "    </tr>\n",
       "    <tr>\n",
       "      <th>4</th>\n",
       "      <td>2016-03-31 17:25:00</td>\n",
       "      <td>3600</td>\n",
       "      <td>small</td>\n",
       "      <td>2008</td>\n",
       "      <td>manual</td>\n",
       "      <td>69</td>\n",
       "      <td>fabia</td>\n",
       "      <td>90000</td>\n",
       "      <td>gasoline</td>\n",
       "      <td>skoda</td>\n",
       "      <td>no</td>\n",
       "      <td>2016-03-31</td>\n",
       "      <td>60437</td>\n",
       "      <td>2016-04-06 10:17:00</td>\n",
       "    </tr>\n",
       "    <tr>\n",
       "      <th>5</th>\n",
       "      <td>2016-04-04 17:36:00</td>\n",
       "      <td>650</td>\n",
       "      <td>sedan</td>\n",
       "      <td>1995</td>\n",
       "      <td>manual</td>\n",
       "      <td>102</td>\n",
       "      <td>3_series</td>\n",
       "      <td>150000</td>\n",
       "      <td>gasoline</td>\n",
       "      <td>bmw</td>\n",
       "      <td>yes</td>\n",
       "      <td>2016-04-04</td>\n",
       "      <td>33775</td>\n",
       "      <td>2016-04-06 19:17:00</td>\n",
       "    </tr>\n",
       "    <tr>\n",
       "      <th>6</th>\n",
       "      <td>2016-04-01 20:48:00</td>\n",
       "      <td>2200</td>\n",
       "      <td>convertible</td>\n",
       "      <td>2004</td>\n",
       "      <td>manual</td>\n",
       "      <td>109</td>\n",
       "      <td>2_series</td>\n",
       "      <td>150000</td>\n",
       "      <td>gasoline</td>\n",
       "      <td>peugeot</td>\n",
       "      <td>no</td>\n",
       "      <td>2016-04-01</td>\n",
       "      <td>67112</td>\n",
       "      <td>2016-04-05 18:18:00</td>\n",
       "    </tr>\n",
       "    <tr>\n",
       "      <th>7</th>\n",
       "      <td>2016-03-21 18:54:00</td>\n",
       "      <td>0</td>\n",
       "      <td>sedan</td>\n",
       "      <td>1980</td>\n",
       "      <td>manual</td>\n",
       "      <td>50</td>\n",
       "      <td>other</td>\n",
       "      <td>40000</td>\n",
       "      <td>gasoline</td>\n",
       "      <td>volkswagen</td>\n",
       "      <td>no</td>\n",
       "      <td>2016-03-21</td>\n",
       "      <td>19348</td>\n",
       "      <td>2016-03-25 16:47:00</td>\n",
       "    </tr>\n",
       "    <tr>\n",
       "      <th>8</th>\n",
       "      <td>2016-04-04 23:42:00</td>\n",
       "      <td>14500</td>\n",
       "      <td>bus</td>\n",
       "      <td>2014</td>\n",
       "      <td>manual</td>\n",
       "      <td>125</td>\n",
       "      <td>c_max</td>\n",
       "      <td>30000</td>\n",
       "      <td>gasoline</td>\n",
       "      <td>ford</td>\n",
       "      <td>unknown</td>\n",
       "      <td>2016-04-04</td>\n",
       "      <td>94505</td>\n",
       "      <td>2016-04-04 23:42:00</td>\n",
       "    </tr>\n",
       "    <tr>\n",
       "      <th>9</th>\n",
       "      <td>2016-03-17 10:53:00</td>\n",
       "      <td>999</td>\n",
       "      <td>small</td>\n",
       "      <td>1998</td>\n",
       "      <td>manual</td>\n",
       "      <td>101</td>\n",
       "      <td>golf</td>\n",
       "      <td>150000</td>\n",
       "      <td>unknown</td>\n",
       "      <td>volkswagen</td>\n",
       "      <td>unknown</td>\n",
       "      <td>2016-03-17</td>\n",
       "      <td>27472</td>\n",
       "      <td>2016-03-31 17:17:00</td>\n",
       "    </tr>\n",
       "  </tbody>\n",
       "</table>\n",
       "</div>"
      ],
      "text/plain": [
       "          DateCrawled  Price  VehicleType  RegistrationYear Gearbox  Power  \\\n",
       "0 2016-03-24 11:52:00    480      unknown              1993  manual    110   \n",
       "1 2016-03-24 10:58:00  18300        coupe              2011  manual    190   \n",
       "2 2016-03-14 12:52:00   9800          suv              2004    auto    163   \n",
       "3 2016-03-17 16:54:00   1500        small              2001  manual     75   \n",
       "4 2016-03-31 17:25:00   3600        small              2008  manual     69   \n",
       "5 2016-04-04 17:36:00    650        sedan              1995  manual    102   \n",
       "6 2016-04-01 20:48:00   2200  convertible              2004  manual    109   \n",
       "7 2016-03-21 18:54:00      0        sedan              1980  manual     50   \n",
       "8 2016-04-04 23:42:00  14500          bus              2014  manual    125   \n",
       "9 2016-03-17 10:53:00    999        small              1998  manual    101   \n",
       "\n",
       "      Model  Mileage  FuelType       Brand NotRepaired DateCreated  \\\n",
       "0      golf   150000  gasoline  volkswagen     unknown  2016-03-24   \n",
       "1   unknown   125000  gasoline        audi         yes  2016-03-24   \n",
       "2     grand   125000  gasoline        jeep     unknown  2016-03-14   \n",
       "3      golf   150000  gasoline  volkswagen          no  2016-03-17   \n",
       "4     fabia    90000  gasoline       skoda          no  2016-03-31   \n",
       "5  3_series   150000  gasoline         bmw         yes  2016-04-04   \n",
       "6  2_series   150000  gasoline     peugeot          no  2016-04-01   \n",
       "7     other    40000  gasoline  volkswagen          no  2016-03-21   \n",
       "8     c_max    30000  gasoline        ford     unknown  2016-04-04   \n",
       "9      golf   150000   unknown  volkswagen     unknown  2016-03-17   \n",
       "\n",
       "   PostalCode            LastSeen  \n",
       "0       70435 2016-04-07 03:16:00  \n",
       "1       66954 2016-04-07 01:46:00  \n",
       "2       90480 2016-04-05 12:47:00  \n",
       "3       91074 2016-03-17 17:40:00  \n",
       "4       60437 2016-04-06 10:17:00  \n",
       "5       33775 2016-04-06 19:17:00  \n",
       "6       67112 2016-04-05 18:18:00  \n",
       "7       19348 2016-03-25 16:47:00  \n",
       "8       94505 2016-04-04 23:42:00  \n",
       "9       27472 2016-03-31 17:17:00  "
      ]
     },
     "execution_count": 20,
     "metadata": {},
     "output_type": "execute_result"
    }
   ],
   "source": [
    "data.head(10)"
   ]
  },
  {
   "cell_type": "markdown",
   "id": "075eae8f",
   "metadata": {},
   "source": [
    "# Exploratory Data Analysis (EDA )\n",
    "\n",
    "Taking a closer look at: \n",
    "- What features seem most related to price?\n",
    "- Are there any extreme values that should be removed?\n",
    "- Are there any patterns that could improve the model?\n"
   ]
  },
  {
   "cell_type": "markdown",
   "id": "48e3e063",
   "metadata": {},
   "source": [
    "## Summary statistics"
   ]
  },
  {
   "cell_type": "code",
   "execution_count": 21,
   "id": "f1e330fa",
   "metadata": {
    "scrolled": true
   },
   "outputs": [
    {
     "data": {
      "text/html": [
       "<div>\n",
       "<style scoped>\n",
       "    .dataframe tbody tr th:only-of-type {\n",
       "        vertical-align: middle;\n",
       "    }\n",
       "\n",
       "    .dataframe tbody tr th {\n",
       "        vertical-align: top;\n",
       "    }\n",
       "\n",
       "    .dataframe thead th {\n",
       "        text-align: right;\n",
       "    }\n",
       "</style>\n",
       "<table border=\"1\" class=\"dataframe\">\n",
       "  <thead>\n",
       "    <tr style=\"text-align: right;\">\n",
       "      <th></th>\n",
       "      <th>DateCrawled</th>\n",
       "      <th>Price</th>\n",
       "      <th>RegistrationYear</th>\n",
       "      <th>Power</th>\n",
       "      <th>Mileage</th>\n",
       "      <th>DateCreated</th>\n",
       "      <th>PostalCode</th>\n",
       "      <th>LastSeen</th>\n",
       "    </tr>\n",
       "  </thead>\n",
       "  <tbody>\n",
       "    <tr>\n",
       "      <th>count</th>\n",
       "      <td>353936</td>\n",
       "      <td>353936.000000</td>\n",
       "      <td>353936.000000</td>\n",
       "      <td>353936.000000</td>\n",
       "      <td>353936.000000</td>\n",
       "      <td>353936</td>\n",
       "      <td>353936.000000</td>\n",
       "      <td>353936</td>\n",
       "    </tr>\n",
       "    <tr>\n",
       "      <th>mean</th>\n",
       "      <td>2016-03-21 12:56:37.289623296</td>\n",
       "      <td>4417.428453</td>\n",
       "      <td>2003.084846</td>\n",
       "      <td>118.816181</td>\n",
       "      <td>128268.288617</td>\n",
       "      <td>2016-03-20 19:11:01.461958912</td>\n",
       "      <td>50510.251308</td>\n",
       "      <td>2016-03-29 23:50:55.514613248</td>\n",
       "    </tr>\n",
       "    <tr>\n",
       "      <th>min</th>\n",
       "      <td>2016-03-05 14:06:00</td>\n",
       "      <td>0.000000</td>\n",
       "      <td>1910.000000</td>\n",
       "      <td>1.000000</td>\n",
       "      <td>5000.000000</td>\n",
       "      <td>2014-03-10 00:00:00</td>\n",
       "      <td>1067.000000</td>\n",
       "      <td>2016-03-05 14:15:00</td>\n",
       "    </tr>\n",
       "    <tr>\n",
       "      <th>25%</th>\n",
       "      <td>2016-03-13 11:52:00</td>\n",
       "      <td>1050.000000</td>\n",
       "      <td>1999.000000</td>\n",
       "      <td>84.000000</td>\n",
       "      <td>125000.000000</td>\n",
       "      <td>2016-03-13 00:00:00</td>\n",
       "      <td>30165.000000</td>\n",
       "      <td>2016-03-23 02:50:00</td>\n",
       "    </tr>\n",
       "    <tr>\n",
       "      <th>50%</th>\n",
       "      <td>2016-03-21 17:50:00</td>\n",
       "      <td>2700.000000</td>\n",
       "      <td>2003.000000</td>\n",
       "      <td>110.000000</td>\n",
       "      <td>150000.000000</td>\n",
       "      <td>2016-03-21 00:00:00</td>\n",
       "      <td>49413.000000</td>\n",
       "      <td>2016-04-03 15:15:00</td>\n",
       "    </tr>\n",
       "    <tr>\n",
       "      <th>75%</th>\n",
       "      <td>2016-03-29 14:36:00</td>\n",
       "      <td>6400.000000</td>\n",
       "      <td>2008.000000</td>\n",
       "      <td>143.000000</td>\n",
       "      <td>150000.000000</td>\n",
       "      <td>2016-03-29 00:00:00</td>\n",
       "      <td>71083.000000</td>\n",
       "      <td>2016-04-06 10:15:00</td>\n",
       "    </tr>\n",
       "    <tr>\n",
       "      <th>max</th>\n",
       "      <td>2016-04-07 14:36:00</td>\n",
       "      <td>20000.000000</td>\n",
       "      <td>2019.000000</td>\n",
       "      <td>306.000000</td>\n",
       "      <td>150000.000000</td>\n",
       "      <td>2016-04-07 00:00:00</td>\n",
       "      <td>99998.000000</td>\n",
       "      <td>2016-04-07 14:58:00</td>\n",
       "    </tr>\n",
       "    <tr>\n",
       "      <th>std</th>\n",
       "      <td>NaN</td>\n",
       "      <td>4514.261174</td>\n",
       "      <td>7.537331</td>\n",
       "      <td>49.455662</td>\n",
       "      <td>37824.728828</td>\n",
       "      <td>NaN</td>\n",
       "      <td>25784.581168</td>\n",
       "      <td>NaN</td>\n",
       "    </tr>\n",
       "  </tbody>\n",
       "</table>\n",
       "</div>"
      ],
      "text/plain": [
       "                         DateCrawled          Price  RegistrationYear  \\\n",
       "count                         353936  353936.000000     353936.000000   \n",
       "mean   2016-03-21 12:56:37.289623296    4417.428453       2003.084846   \n",
       "min              2016-03-05 14:06:00       0.000000       1910.000000   \n",
       "25%              2016-03-13 11:52:00    1050.000000       1999.000000   \n",
       "50%              2016-03-21 17:50:00    2700.000000       2003.000000   \n",
       "75%              2016-03-29 14:36:00    6400.000000       2008.000000   \n",
       "max              2016-04-07 14:36:00   20000.000000       2019.000000   \n",
       "std                              NaN    4514.261174          7.537331   \n",
       "\n",
       "               Power        Mileage                    DateCreated  \\\n",
       "count  353936.000000  353936.000000                         353936   \n",
       "mean      118.816181  128268.288617  2016-03-20 19:11:01.461958912   \n",
       "min         1.000000    5000.000000            2014-03-10 00:00:00   \n",
       "25%        84.000000  125000.000000            2016-03-13 00:00:00   \n",
       "50%       110.000000  150000.000000            2016-03-21 00:00:00   \n",
       "75%       143.000000  150000.000000            2016-03-29 00:00:00   \n",
       "max       306.000000  150000.000000            2016-04-07 00:00:00   \n",
       "std        49.455662   37824.728828                            NaN   \n",
       "\n",
       "          PostalCode                       LastSeen  \n",
       "count  353936.000000                         353936  \n",
       "mean    50510.251308  2016-03-29 23:50:55.514613248  \n",
       "min      1067.000000            2016-03-05 14:15:00  \n",
       "25%     30165.000000            2016-03-23 02:50:00  \n",
       "50%     49413.000000            2016-04-03 15:15:00  \n",
       "75%     71083.000000            2016-04-06 10:15:00  \n",
       "max     99998.000000            2016-04-07 14:58:00  \n",
       "std     25784.581168                            NaN  "
      ]
     },
     "execution_count": 21,
     "metadata": {},
     "output_type": "execute_result"
    }
   ],
   "source": [
    "data.describe()"
   ]
  },
  {
   "cell_type": "code",
   "execution_count": 22,
   "id": "1a7b1c29",
   "metadata": {
    "scrolled": false
   },
   "outputs": [
    {
     "data": {
      "text/html": [
       "<div>\n",
       "<style scoped>\n",
       "    .dataframe tbody tr th:only-of-type {\n",
       "        vertical-align: middle;\n",
       "    }\n",
       "\n",
       "    .dataframe tbody tr th {\n",
       "        vertical-align: top;\n",
       "    }\n",
       "\n",
       "    .dataframe thead th {\n",
       "        text-align: right;\n",
       "    }\n",
       "</style>\n",
       "<table border=\"1\" class=\"dataframe\">\n",
       "  <thead>\n",
       "    <tr style=\"text-align: right;\">\n",
       "      <th></th>\n",
       "      <th>VehicleType</th>\n",
       "      <th>Gearbox</th>\n",
       "      <th>Model</th>\n",
       "      <th>FuelType</th>\n",
       "      <th>Brand</th>\n",
       "      <th>NotRepaired</th>\n",
       "    </tr>\n",
       "  </thead>\n",
       "  <tbody>\n",
       "    <tr>\n",
       "      <th>count</th>\n",
       "      <td>353936</td>\n",
       "      <td>353936</td>\n",
       "      <td>353936</td>\n",
       "      <td>353936</td>\n",
       "      <td>353936</td>\n",
       "      <td>353936</td>\n",
       "    </tr>\n",
       "    <tr>\n",
       "      <th>unique</th>\n",
       "      <td>9</td>\n",
       "      <td>3</td>\n",
       "      <td>243</td>\n",
       "      <td>6</td>\n",
       "      <td>40</td>\n",
       "      <td>3</td>\n",
       "    </tr>\n",
       "    <tr>\n",
       "      <th>top</th>\n",
       "      <td>sedan</td>\n",
       "      <td>manual</td>\n",
       "      <td>golf</td>\n",
       "      <td>gasoline</td>\n",
       "      <td>volkswagen</td>\n",
       "      <td>no</td>\n",
       "    </tr>\n",
       "    <tr>\n",
       "      <th>freq</th>\n",
       "      <td>91399</td>\n",
       "      <td>268008</td>\n",
       "      <td>29201</td>\n",
       "      <td>314778</td>\n",
       "      <td>76924</td>\n",
       "      <td>246912</td>\n",
       "    </tr>\n",
       "  </tbody>\n",
       "</table>\n",
       "</div>"
      ],
      "text/plain": [
       "       VehicleType Gearbox   Model  FuelType       Brand NotRepaired\n",
       "count       353936  353936  353936    353936      353936      353936\n",
       "unique           9       3     243         6          40           3\n",
       "top          sedan  manual    golf  gasoline  volkswagen          no\n",
       "freq         91399  268008   29201    314778       76924      246912"
      ]
     },
     "execution_count": 22,
     "metadata": {},
     "output_type": "execute_result"
    }
   ],
   "source": [
    "# Check the summary statistics \n",
    "data.describe(include=['object'])  # Summary of categorical features"
   ]
  },
  {
   "cell_type": "markdown",
   "id": "49deaea4",
   "metadata": {},
   "source": [
    "## Understanding How 'Price' is Distributed"
   ]
  },
  {
   "cell_type": "code",
   "execution_count": null,
   "id": "a2d6afec",
   "metadata": {},
   "outputs": [],
   "source": []
  },
  {
   "cell_type": "code",
   "execution_count": 23,
   "id": "16cddeb1",
   "metadata": {
    "scrolled": false
   },
   "outputs": [
    {
     "data": {
      "image/png": "[encoded data removed]",
      "text/plain": [
       "<Figure size 1200x600 with 4 Axes>"
      ]
     },
     "metadata": {},
     "output_type": "display_data"
    }
   ],
   "source": [
    "# Visualizing the originally numeric features\n",
    "original_numeric = ['Price', 'Mileage', 'Power', 'RegistrationYear']\n",
    "\n",
    "# Plot histograms for original numerical features\n",
    "data[original_numeric].hist(figsize=(12, 6), bins=30, edgecolor='black')\n",
    "plt.suptitle(\"Feature Distributions for Numerical Columns\", fontsize=16)\n",
    "plt.show()"
   ]
  },
  {
   "cell_type": "code",
   "execution_count": 24,
   "id": "25787b0a",
   "metadata": {},
   "outputs": [
    {
     "name": "stdout",
     "output_type": "stream",
     "text": [
      "Number of zero price listings: 10738\n"
     ]
    }
   ],
   "source": [
    "zero_price_count = data[data['Price'] == 0].shape[0]\n",
    "print(\"Number of zero price listings:\", zero_price_count)"
   ]
  },
  {
   "cell_type": "markdown",
   "id": "89af5e96",
   "metadata": {},
   "source": [
    "There is a heavy skew to the 'Price' column and we do have a large number of cars priced at zero. It's not clear if that's an error or if it's intentional. (For example, \"Contact for price.\") \n",
    "\n",
    "The number of zero price listings seems significant, so I'll do a log transform to reduce the skew and improve model performance. "
   ]
  },
  {
   "cell_type": "code",
   "execution_count": 25,
   "id": "44caadaa",
   "metadata": {
    "scrolled": true
   },
   "outputs": [
    {
     "data": {
      "image/png": "[encoded data removed]",
      "text/plain": [
       "<Figure size 600x400 with 1 Axes>"
      ]
     },
     "metadata": {},
     "output_type": "display_data"
    }
   ],
   "source": [
    "# Apply log transformation\n",
    "data['log_price'] = np.log1p(data['Price'])  # log1p helps handle zeros safely\n",
    "\n",
    "# Plot histogram of log-transformed price\n",
    "plt.figure(figsize=(6,4))\n",
    "plt.hist(data['log_price'], bins=30, edgecolor='black')\n",
    "plt.title(\"Log-Transformed Price Distribution\")\n",
    "plt.xlabel(\"log(Price)\")\n",
    "plt.ylabel(\"Count\")\n",
    "plt.show()"
   ]
  },
  {
   "cell_type": "markdown",
   "id": "aee471fa",
   "metadata": {},
   "source": [
    "## Examining Feature Relationships with Price\n",
    "\n"
   ]
  },
  {
   "cell_type": "markdown",
   "id": "5a0bd2b2",
   "metadata": {},
   "source": [
    "**Correlation Heatmap** "
   ]
  },
  {
   "cell_type": "code",
   "execution_count": 26,
   "id": "790edb9d",
   "metadata": {
    "scrolled": false
   },
   "outputs": [
    {
     "data": {
      "image/png": "[encoded data removed]",
      "text/plain": [
       "<Figure size 1200x1200 with 2 Axes>"
      ]
     },
     "metadata": {},
     "output_type": "display_data"
    }
   ],
   "source": [
    "# Heatmap for the numeric features \n",
    "corr_feature_matrix = data[['Price', 'log_price', 'Mileage', 'Power', 'RegistrationYear', 'PostalCode']].corr()\n",
    "\n",
    "plt.figure(figsize=(12, 12))\n",
    "sns.heatmap(corr_feature_matrix, annot=True, fmt=\".2f\", cmap=\"coolwarm\", linewidths=0.5)\n",
    "plt.title(\"Correlation Heatmap of Numerical Features\")\n",
    "plt.show()"
   ]
  },
  {
   "cell_type": "markdown",
   "id": "bdf64bb8",
   "metadata": {},
   "source": [
    "Interpreting the correlation matrix: \n",
    "\n",
    "- `Power` and `RegistrationYear` seem like the strongest predictors of price.\n",
    "- `Mileage` matters, but its effect is weaker than expected.\n",
    "- `log_price` has a slightly weaker correlation with features than `Price`. "
   ]
  },
  {
   "cell_type": "markdown",
   "id": "23527e7a",
   "metadata": {},
   "source": [
    "## Visualizing 'Brand' and 'Model' vs 'Price'"
   ]
  },
  {
   "cell_type": "code",
   "execution_count": 27,
   "id": "db089b3d",
   "metadata": {},
   "outputs": [
    {
     "data": {
      "image/png": "[encoded data removed]",
      "text/plain": [
       "<Figure size 1200x600 with 1 Axes>"
      ]
     },
     "metadata": {},
     "output_type": "display_data"
    }
   ],
   "source": [
    "# Boxplot: Price by Brand (Top 10)\n",
    "# Get the top 10 most common brands\n",
    "top_brands = data['Brand'].value_counts().index[:10]\n",
    "\n",
    "# Filter dataset to only include these brands\n",
    "filtered_data = data[data['Brand'].isin(top_brands)]\n",
    "\n",
    "# Plot boxplot\n",
    "plt.figure(figsize=(12, 6))\n",
    "sns.boxplot(x=\"Brand\", y=\"Price\", data=filtered_data)\n",
    "plt.xticks(rotation=45)\n",
    "plt.title(\"Price Distribution by Brand (Top 10 Most Common)\")\n",
    "plt.xlabel(\"Brand\")\n",
    "plt.ylabel(\"Price\")\n",
    "plt.show()\n"
   ]
  },
  {
   "cell_type": "code",
   "execution_count": 28,
   "id": "0d06105c",
   "metadata": {
    "scrolled": true
   },
   "outputs": [
    {
     "data": {
      "image/png": "[encoded data removed]",
      "text/plain": [
       "<Figure size 1200x600 with 1 Axes>"
      ]
     },
     "metadata": {},
     "output_type": "display_data"
    }
   ],
   "source": [
    "# Boxplot price by model (top 10)\n",
    "top_models = data['Model'].value_counts().index[:10]\n",
    "\n",
    "# Filter dataset to only include these brands\n",
    "filtered_models = data[data['Model'].isin(top_models)]\n",
    "\n",
    "# Plot boxplot\n",
    "plt.figure(figsize=(12, 6))\n",
    "sns.boxplot(x=\"Model\", y=\"Price\", data=filtered_models)\n",
    "plt.xticks(rotation=45)\n",
    "plt.title(\"Price Distribution by Model (Top 10 Most Common)\")\n",
    "plt.xlabel(\"Model\")\n",
    "plt.ylabel(\"Price\")\n",
    "plt.show()"
   ]
  },
  {
   "cell_type": "markdown",
   "id": "1de3b4ac",
   "metadata": {},
   "source": [
    "### EDA Conclusion\n",
    "\n",
    "In the exploratory data analysis (EDA) phase, we examined the dataset for inconsistencies, missing values, and feature relevance. Several key insights emerged:\n",
    "\n",
    "**Data Cleaning:**\n",
    "\n",
    "- `RegistrationYear` contained unrealistic values, which were filtered within logical bounds.\n",
    "- `RegistrationMonth` had many missing or zero values, contributing little to price prediction, so it was ultimately dropped.\n",
    "- `Power` had extreme outliers, requiring capping to the 99th percentile and replacement of zero values with the median.\n",
    "\n",
    "\n",
    "**Feature Exploration:**\n",
    "\n",
    "- Correlation heatmaps and scatterplots showed that `Mileage`, `RegistrationYear`, and `Power` had the strongest relationships with price.\n",
    "- Many categorical features, such as `Brand` and `Model`, exhibited high cardinality, necessitating thoughtful encoding strategies.\n",
    "\n",
    "\n",
    "**Encoding Strategy:**\n",
    "\n",
    "- Low-cardinality categorical variables (VehicleType, Gearbox, FuelType, NotRepaired) were one-hot encoded.\n",
    "- `Brand` was simplified by grouping less common brands into \"Other\", then label-encoded.\n",
    "- `Model` was label-encoded to preserve its information without inflating dimensionality.\n",
    "\n",
    "\n",
    "This analysis provided a strong foundation for feature engineering and model training by ensuring data quality and selecting the most meaningful transformations."
   ]
  },
  {
   "cell_type": "markdown",
   "id": "7da60649",
   "metadata": {},
   "source": [
    "# Feature Engineering\n",
    "Evaluating the features and transforming existing ones using encoding to improve model performance. "
   ]
  },
  {
   "cell_type": "code",
   "execution_count": 29,
   "id": "93a95a4c",
   "metadata": {
    "scrolled": true
   },
   "outputs": [
    {
     "name": "stdout",
     "output_type": "stream",
     "text": [
      "VehicleType      9\n",
      "Gearbox          3\n",
      "Model          243\n",
      "FuelType         6\n",
      "Brand           40\n",
      "NotRepaired      3\n",
      "dtype: int64\n"
     ]
    }
   ],
   "source": [
    "# Check the unique values in categorical columns\n",
    "print(data.select_dtypes(include=['object', 'category']).nunique())"
   ]
  },
  {
   "cell_type": "markdown",
   "id": "051e741e",
   "metadata": {},
   "source": [
    "## Addressing the low cardinality features\n",
    "Using One-Hot Encoding for those features with few unique values."
   ]
  },
  {
   "cell_type": "code",
   "execution_count": 30,
   "id": "089602f0",
   "metadata": {},
   "outputs": [],
   "source": [
    "# Apply OHE\n",
    "ohe_cols = ['VehicleType', 'Gearbox', 'FuelType', 'NotRepaired']\n",
    "data = pd.get_dummies(data, columns=ohe_cols, dtype=int, drop_first=True)  "
   ]
  },
  {
   "cell_type": "markdown",
   "id": "5b3c9812",
   "metadata": {},
   "source": [
    "## Addressing high cardinality features\n",
    "Encoding the categories using One-Hot Encoding and Label Encoding. \n",
    "\n",
    "- The 'PostalCode' feature has too many unique values and isn't something that likely impacts price, so this will column will be dropped as a feature. \n",
    "\n",
    "- For the 'Brand' values, we'll be identifying the top vehicle brands and grouping the remainder into the value \"Other\" to reduce the number of features and improve the computational performance when modeling. "
   ]
  },
  {
   "cell_type": "code",
   "execution_count": 31,
   "id": "b8103b55",
   "metadata": {},
   "outputs": [],
   "source": [
    "# Use Label Encoding for Model\n",
    "le = LabelEncoder()\n",
    "data['Model_Label'] = le.fit_transform(data['Model'])"
   ]
  },
  {
   "cell_type": "code",
   "execution_count": 32,
   "id": "30125e07",
   "metadata": {
    "scrolled": true
   },
   "outputs": [
    {
     "name": "stdout",
     "output_type": "stream",
     "text": [
      "Brand\n",
      "volkswagen        76924\n",
      "opel              39884\n",
      "bmw               36869\n",
      "mercedes_benz     32013\n",
      "audi              29434\n",
      "ford              25158\n",
      "renault           17911\n",
      "peugeot           10986\n",
      "fiat               9628\n",
      "seat               6900\n",
      "mazda              5605\n",
      "skoda              5488\n",
      "smart              5241\n",
      "citroen            5140\n",
      "nissan             4936\n",
      "toyota             4601\n",
      "hyundai            3582\n",
      "sonstige_autos     3337\n",
      "volvo              3207\n",
      "mini               3200\n",
      "mitsubishi         3019\n",
      "honda              2817\n",
      "kia                2463\n",
      "suzuki             2320\n",
      "alfa_romeo         2309\n",
      "chevrolet          1749\n",
      "chrysler           1438\n",
      "dacia               898\n",
      "daihatsu            806\n",
      "subaru              759\n",
      "porsche             756\n",
      "jeep                676\n",
      "trabant             585\n",
      "land_rover          544\n",
      "daewoo              542\n",
      "saab                525\n",
      "jaguar              505\n",
      "rover               485\n",
      "lancia              471\n",
      "lada                225\n",
      "Name: count, dtype: int64\n"
     ]
    }
   ],
   "source": [
    "print(data['Brand'].value_counts())"
   ]
  },
  {
   "cell_type": "code",
   "execution_count": 33,
   "id": "90392fc1",
   "metadata": {},
   "outputs": [
    {
     "data": {
      "text/plain": [
       "80.72278604041408"
      ]
     },
     "execution_count": 33,
     "metadata": {},
     "output_type": "execute_result"
    }
   ],
   "source": [
    "total_cars = len(data)\n",
    "top_10_cars = data['Brand'].value_counts().iloc[:10].sum()\n",
    "coverage = (top_10_cars / total_cars) * 100\n",
    "coverage"
   ]
  },
  {
   "cell_type": "markdown",
   "id": "18aca9fd",
   "metadata": {},
   "source": [
    "Since there are a large number of brands, I was thinking of working with the top 10 brands. This reduces the number of categories to 11 instead of 40. "
   ]
  },
  {
   "cell_type": "code",
   "execution_count": 34,
   "id": "db0a4143",
   "metadata": {},
   "outputs": [],
   "source": [
    "# Get the names of the top 10 brands\n",
    "top_brands = data['Brand'].value_counts().index[:10]\n",
    "#top_brands\n",
    "\n",
    "# Group brands for the 'Other' value\n",
    "data['Brand_Cleaned'] = data['Brand'].apply(lambda x: x if x in top_brands else 'Other')\n",
    "\n",
    "# Apply label encoding\n",
    "le = LabelEncoder()\n",
    "data['Brand_Label'] = le.fit_transform(data['Brand_Cleaned'])"
   ]
  },
  {
   "cell_type": "markdown",
   "id": "ddf642cd",
   "metadata": {},
   "source": [
    "**Checking the results of the encoding**\n",
    "- Making sure the columns were created, \n",
    "- Data is binary\n",
    "- No NaNs were introduced\n",
    "- Confirming the counts "
   ]
  },
  {
   "cell_type": "code",
   "execution_count": 35,
   "id": "9143c49f",
   "metadata": {
    "scrolled": true
   },
   "outputs": [
    {
     "name": "stdout",
     "output_type": "stream",
     "text": [
      "<class 'pandas.core.frame.DataFrame'>\n",
      "Index: 353936 entries, 0 to 354368\n",
      "Data columns (total 31 columns):\n",
      " #   Column                   Non-Null Count   Dtype         \n",
      "---  ------                   --------------   -----         \n",
      " 0   DateCrawled              353936 non-null  datetime64[ns]\n",
      " 1   Price                    353936 non-null  int64         \n",
      " 2   RegistrationYear         353936 non-null  int64         \n",
      " 3   Power                    353936 non-null  int64         \n",
      " 4   Model                    353936 non-null  object        \n",
      " 5   Mileage                  353936 non-null  int64         \n",
      " 6   Brand                    353936 non-null  object        \n",
      " 7   DateCreated              353936 non-null  datetime64[ns]\n",
      " 8   PostalCode               353936 non-null  int64         \n",
      " 9   LastSeen                 353936 non-null  datetime64[ns]\n",
      " 10  log_price                353936 non-null  float64       \n",
      " 11  VehicleType_convertible  353936 non-null  int64         \n",
      " 12  VehicleType_coupe        353936 non-null  int64         \n",
      " 13  VehicleType_other        353936 non-null  int64         \n",
      " 14  VehicleType_sedan        353936 non-null  int64         \n",
      " 15  VehicleType_small        353936 non-null  int64         \n",
      " 16  VehicleType_suv          353936 non-null  int64         \n",
      " 17  VehicleType_unknown      353936 non-null  int64         \n",
      " 18  VehicleType_wagon        353936 non-null  int64         \n",
      " 19  Gearbox_manual           353936 non-null  int64         \n",
      " 20  Gearbox_unknown          353936 non-null  int64         \n",
      " 21  FuelType_gasoline        353936 non-null  int64         \n",
      " 22  FuelType_hybrid          353936 non-null  int64         \n",
      " 23  FuelType_natural_gas     353936 non-null  int64         \n",
      " 24  FuelType_other           353936 non-null  int64         \n",
      " 25  FuelType_unknown         353936 non-null  int64         \n",
      " 26  NotRepaired_unknown      353936 non-null  int64         \n",
      " 27  NotRepaired_yes          353936 non-null  int64         \n",
      " 28  Model_Label              353936 non-null  int64         \n",
      " 29  Brand_Cleaned            353936 non-null  object        \n",
      " 30  Brand_Label              353936 non-null  int64         \n",
      "dtypes: datetime64[ns](3), float64(1), int64(24), object(3)\n",
      "memory usage: 86.4+ MB\n"
     ]
    }
   ],
   "source": [
    "# Checking our work\n",
    "data.info()"
   ]
  },
  {
   "cell_type": "code",
   "execution_count": 36,
   "id": "040f1851",
   "metadata": {
    "scrolled": false
   },
   "outputs": [
    {
     "data": {
      "text/html": [
       "<div>\n",
       "<style scoped>\n",
       "    .dataframe tbody tr th:only-of-type {\n",
       "        vertical-align: middle;\n",
       "    }\n",
       "\n",
       "    .dataframe tbody tr th {\n",
       "        vertical-align: top;\n",
       "    }\n",
       "\n",
       "    .dataframe thead th {\n",
       "        text-align: right;\n",
       "    }\n",
       "</style>\n",
       "<table border=\"1\" class=\"dataframe\">\n",
       "  <thead>\n",
       "    <tr style=\"text-align: right;\">\n",
       "      <th></th>\n",
       "      <th>DateCrawled</th>\n",
       "      <th>Price</th>\n",
       "      <th>RegistrationYear</th>\n",
       "      <th>Power</th>\n",
       "      <th>Model</th>\n",
       "      <th>Mileage</th>\n",
       "      <th>Brand</th>\n",
       "      <th>DateCreated</th>\n",
       "      <th>PostalCode</th>\n",
       "      <th>LastSeen</th>\n",
       "      <th>...</th>\n",
       "      <th>FuelType_gasoline</th>\n",
       "      <th>FuelType_hybrid</th>\n",
       "      <th>FuelType_natural_gas</th>\n",
       "      <th>FuelType_other</th>\n",
       "      <th>FuelType_unknown</th>\n",
       "      <th>NotRepaired_unknown</th>\n",
       "      <th>NotRepaired_yes</th>\n",
       "      <th>Model_Label</th>\n",
       "      <th>Brand_Cleaned</th>\n",
       "      <th>Brand_Label</th>\n",
       "    </tr>\n",
       "  </thead>\n",
       "  <tbody>\n",
       "    <tr>\n",
       "      <th>0</th>\n",
       "      <td>2016-03-24 11:52:00</td>\n",
       "      <td>480</td>\n",
       "      <td>1993</td>\n",
       "      <td>110</td>\n",
       "      <td>golf</td>\n",
       "      <td>150000</td>\n",
       "      <td>volkswagen</td>\n",
       "      <td>2016-03-24</td>\n",
       "      <td>70435</td>\n",
       "      <td>2016-04-07 03:16:00</td>\n",
       "      <td>...</td>\n",
       "      <td>1</td>\n",
       "      <td>0</td>\n",
       "      <td>0</td>\n",
       "      <td>0</td>\n",
       "      <td>0</td>\n",
       "      <td>1</td>\n",
       "      <td>0</td>\n",
       "      <td>113</td>\n",
       "      <td>volkswagen</td>\n",
       "      <td>10</td>\n",
       "    </tr>\n",
       "    <tr>\n",
       "      <th>1</th>\n",
       "      <td>2016-03-24 10:58:00</td>\n",
       "      <td>18300</td>\n",
       "      <td>2011</td>\n",
       "      <td>190</td>\n",
       "      <td>unknown</td>\n",
       "      <td>125000</td>\n",
       "      <td>audi</td>\n",
       "      <td>2016-03-24</td>\n",
       "      <td>66954</td>\n",
       "      <td>2016-04-07 01:46:00</td>\n",
       "      <td>...</td>\n",
       "      <td>1</td>\n",
       "      <td>0</td>\n",
       "      <td>0</td>\n",
       "      <td>0</td>\n",
       "      <td>0</td>\n",
       "      <td>0</td>\n",
       "      <td>1</td>\n",
       "      <td>220</td>\n",
       "      <td>audi</td>\n",
       "      <td>1</td>\n",
       "    </tr>\n",
       "    <tr>\n",
       "      <th>2</th>\n",
       "      <td>2016-03-14 12:52:00</td>\n",
       "      <td>9800</td>\n",
       "      <td>2004</td>\n",
       "      <td>163</td>\n",
       "      <td>grand</td>\n",
       "      <td>125000</td>\n",
       "      <td>jeep</td>\n",
       "      <td>2016-03-14</td>\n",
       "      <td>90480</td>\n",
       "      <td>2016-04-05 12:47:00</td>\n",
       "      <td>...</td>\n",
       "      <td>1</td>\n",
       "      <td>0</td>\n",
       "      <td>0</td>\n",
       "      <td>0</td>\n",
       "      <td>0</td>\n",
       "      <td>1</td>\n",
       "      <td>0</td>\n",
       "      <td>114</td>\n",
       "      <td>Other</td>\n",
       "      <td>0</td>\n",
       "    </tr>\n",
       "    <tr>\n",
       "      <th>3</th>\n",
       "      <td>2016-03-17 16:54:00</td>\n",
       "      <td>1500</td>\n",
       "      <td>2001</td>\n",
       "      <td>75</td>\n",
       "      <td>golf</td>\n",
       "      <td>150000</td>\n",
       "      <td>volkswagen</td>\n",
       "      <td>2016-03-17</td>\n",
       "      <td>91074</td>\n",
       "      <td>2016-03-17 17:40:00</td>\n",
       "      <td>...</td>\n",
       "      <td>1</td>\n",
       "      <td>0</td>\n",
       "      <td>0</td>\n",
       "      <td>0</td>\n",
       "      <td>0</td>\n",
       "      <td>0</td>\n",
       "      <td>0</td>\n",
       "      <td>113</td>\n",
       "      <td>volkswagen</td>\n",
       "      <td>10</td>\n",
       "    </tr>\n",
       "    <tr>\n",
       "      <th>4</th>\n",
       "      <td>2016-03-31 17:25:00</td>\n",
       "      <td>3600</td>\n",
       "      <td>2008</td>\n",
       "      <td>69</td>\n",
       "      <td>fabia</td>\n",
       "      <td>90000</td>\n",
       "      <td>skoda</td>\n",
       "      <td>2016-03-31</td>\n",
       "      <td>60437</td>\n",
       "      <td>2016-04-06 10:17:00</td>\n",
       "      <td>...</td>\n",
       "      <td>1</td>\n",
       "      <td>0</td>\n",
       "      <td>0</td>\n",
       "      <td>0</td>\n",
       "      <td>0</td>\n",
       "      <td>0</td>\n",
       "      <td>0</td>\n",
       "      <td>98</td>\n",
       "      <td>Other</td>\n",
       "      <td>0</td>\n",
       "    </tr>\n",
       "  </tbody>\n",
       "</table>\n",
       "<p>5 rows × 31 columns</p>\n",
       "</div>"
      ],
      "text/plain": [
       "          DateCrawled  Price  RegistrationYear  Power    Model  Mileage  \\\n",
       "0 2016-03-24 11:52:00    480              1993    110     golf   150000   \n",
       "1 2016-03-24 10:58:00  18300              2011    190  unknown   125000   \n",
       "2 2016-03-14 12:52:00   9800              2004    163    grand   125000   \n",
       "3 2016-03-17 16:54:00   1500              2001     75     golf   150000   \n",
       "4 2016-03-31 17:25:00   3600              2008     69    fabia    90000   \n",
       "\n",
       "        Brand DateCreated  PostalCode            LastSeen  ...  \\\n",
       "0  volkswagen  2016-03-24       70435 2016-04-07 03:16:00  ...   \n",
       "1        audi  2016-03-24       66954 2016-04-07 01:46:00  ...   \n",
       "2        jeep  2016-03-14       90480 2016-04-05 12:47:00  ...   \n",
       "3  volkswagen  2016-03-17       91074 2016-03-17 17:40:00  ...   \n",
       "4       skoda  2016-03-31       60437 2016-04-06 10:17:00  ...   \n",
       "\n",
       "   FuelType_gasoline  FuelType_hybrid  FuelType_natural_gas  FuelType_other  \\\n",
       "0                  1                0                     0               0   \n",
       "1                  1                0                     0               0   \n",
       "2                  1                0                     0               0   \n",
       "3                  1                0                     0               0   \n",
       "4                  1                0                     0               0   \n",
       "\n",
       "   FuelType_unknown  NotRepaired_unknown  NotRepaired_yes  Model_Label  \\\n",
       "0                 0                    1                0          113   \n",
       "1                 0                    0                1          220   \n",
       "2                 0                    1                0          114   \n",
       "3                 0                    0                0          113   \n",
       "4                 0                    0                0           98   \n",
       "\n",
       "   Brand_Cleaned  Brand_Label  \n",
       "0     volkswagen           10  \n",
       "1           audi            1  \n",
       "2          Other            0  \n",
       "3     volkswagen           10  \n",
       "4          Other            0  \n",
       "\n",
       "[5 rows x 31 columns]"
      ]
     },
     "execution_count": 36,
     "metadata": {},
     "output_type": "execute_result"
    }
   ],
   "source": [
    "# Check the OHE\n",
    "data.head()"
   ]
  },
  {
   "cell_type": "code",
   "execution_count": 37,
   "id": "9a2cffa1",
   "metadata": {},
   "outputs": [
    {
     "name": "stdout",
     "output_type": "stream",
     "text": [
      "      Model  Model_Label\n",
      "0      golf          113\n",
      "1   unknown          220\n",
      "2     grand          114\n",
      "3      golf          113\n",
      "4     fabia           98\n",
      "5  3_series            9\n",
      "6  2_series            7\n",
      "7     other          163\n",
      "8     c_max           57\n",
      "9      golf          113\n"
     ]
    }
   ],
   "source": [
    "# Check the LE \n",
    "print(data[['Model', 'Model_Label']].head(10))"
   ]
  },
  {
   "cell_type": "code",
   "execution_count": 38,
   "id": "67cd71cf",
   "metadata": {},
   "outputs": [
    {
     "name": "stdout",
     "output_type": "stream",
     "text": [
      "        Brand  Brand_Label\n",
      "0  volkswagen           10\n",
      "1        audi            1\n",
      "2        jeep            0\n",
      "3  volkswagen           10\n",
      "4       skoda            0\n",
      "5         bmw            2\n",
      "6     peugeot            7\n",
      "7  volkswagen           10\n",
      "8        ford            4\n",
      "9  volkswagen           10\n"
     ]
    }
   ],
   "source": [
    "# Check the LE\n",
    "print(data[['Brand', 'Brand_Label']].head(10))"
   ]
  },
  {
   "cell_type": "code",
   "execution_count": 39,
   "id": "e8885617",
   "metadata": {
    "scrolled": false
   },
   "outputs": [
    {
     "data": {
      "text/plain": [
       "DateCrawled                0\n",
       "Price                      0\n",
       "RegistrationYear           0\n",
       "Power                      0\n",
       "Model                      0\n",
       "Mileage                    0\n",
       "Brand                      0\n",
       "DateCreated                0\n",
       "PostalCode                 0\n",
       "LastSeen                   0\n",
       "log_price                  0\n",
       "VehicleType_convertible    0\n",
       "VehicleType_coupe          0\n",
       "VehicleType_other          0\n",
       "VehicleType_sedan          0\n",
       "VehicleType_small          0\n",
       "VehicleType_suv            0\n",
       "VehicleType_unknown        0\n",
       "VehicleType_wagon          0\n",
       "Gearbox_manual             0\n",
       "Gearbox_unknown            0\n",
       "FuelType_gasoline          0\n",
       "FuelType_hybrid            0\n",
       "FuelType_natural_gas       0\n",
       "FuelType_other             0\n",
       "FuelType_unknown           0\n",
       "NotRepaired_unknown        0\n",
       "NotRepaired_yes            0\n",
       "Model_Label                0\n",
       "Brand_Cleaned              0\n",
       "Brand_Label                0\n",
       "dtype: int64"
      ]
     },
     "execution_count": 39,
     "metadata": {},
     "output_type": "execute_result"
    }
   ],
   "source": [
    "# Checking for missing values\n",
    "data.isna().sum()"
   ]
  },
  {
   "cell_type": "code",
   "execution_count": 40,
   "id": "34b8622a",
   "metadata": {
    "scrolled": true
   },
   "outputs": [
    {
     "data": {
      "text/plain": [
       "(353936, 31)"
      ]
     },
     "execution_count": 40,
     "metadata": {},
     "output_type": "execute_result"
    }
   ],
   "source": [
    "data.shape"
   ]
  },
  {
   "cell_type": "code",
   "execution_count": 41,
   "id": "7de3b084",
   "metadata": {},
   "outputs": [
    {
     "data": {
      "text/html": [
       "<div>\n",
       "<style scoped>\n",
       "    .dataframe tbody tr th:only-of-type {\n",
       "        vertical-align: middle;\n",
       "    }\n",
       "\n",
       "    .dataframe tbody tr th {\n",
       "        vertical-align: top;\n",
       "    }\n",
       "\n",
       "    .dataframe thead th {\n",
       "        text-align: right;\n",
       "    }\n",
       "</style>\n",
       "<table border=\"1\" class=\"dataframe\">\n",
       "  <thead>\n",
       "    <tr style=\"text-align: right;\">\n",
       "      <th></th>\n",
       "      <th>DateCrawled</th>\n",
       "      <th>Price</th>\n",
       "      <th>RegistrationYear</th>\n",
       "      <th>Power</th>\n",
       "      <th>Model</th>\n",
       "      <th>Mileage</th>\n",
       "      <th>Brand</th>\n",
       "      <th>DateCreated</th>\n",
       "      <th>PostalCode</th>\n",
       "      <th>LastSeen</th>\n",
       "      <th>...</th>\n",
       "      <th>FuelType_gasoline</th>\n",
       "      <th>FuelType_hybrid</th>\n",
       "      <th>FuelType_natural_gas</th>\n",
       "      <th>FuelType_other</th>\n",
       "      <th>FuelType_unknown</th>\n",
       "      <th>NotRepaired_unknown</th>\n",
       "      <th>NotRepaired_yes</th>\n",
       "      <th>Model_Label</th>\n",
       "      <th>Brand_Cleaned</th>\n",
       "      <th>Brand_Label</th>\n",
       "    </tr>\n",
       "  </thead>\n",
       "  <tbody>\n",
       "    <tr>\n",
       "      <th>0</th>\n",
       "      <td>2016-03-24 11:52:00</td>\n",
       "      <td>480</td>\n",
       "      <td>1993</td>\n",
       "      <td>110</td>\n",
       "      <td>golf</td>\n",
       "      <td>150000</td>\n",
       "      <td>volkswagen</td>\n",
       "      <td>2016-03-24</td>\n",
       "      <td>70435</td>\n",
       "      <td>2016-04-07 03:16:00</td>\n",
       "      <td>...</td>\n",
       "      <td>1</td>\n",
       "      <td>0</td>\n",
       "      <td>0</td>\n",
       "      <td>0</td>\n",
       "      <td>0</td>\n",
       "      <td>1</td>\n",
       "      <td>0</td>\n",
       "      <td>113</td>\n",
       "      <td>volkswagen</td>\n",
       "      <td>10</td>\n",
       "    </tr>\n",
       "    <tr>\n",
       "      <th>1</th>\n",
       "      <td>2016-03-24 10:58:00</td>\n",
       "      <td>18300</td>\n",
       "      <td>2011</td>\n",
       "      <td>190</td>\n",
       "      <td>unknown</td>\n",
       "      <td>125000</td>\n",
       "      <td>audi</td>\n",
       "      <td>2016-03-24</td>\n",
       "      <td>66954</td>\n",
       "      <td>2016-04-07 01:46:00</td>\n",
       "      <td>...</td>\n",
       "      <td>1</td>\n",
       "      <td>0</td>\n",
       "      <td>0</td>\n",
       "      <td>0</td>\n",
       "      <td>0</td>\n",
       "      <td>0</td>\n",
       "      <td>1</td>\n",
       "      <td>220</td>\n",
       "      <td>audi</td>\n",
       "      <td>1</td>\n",
       "    </tr>\n",
       "    <tr>\n",
       "      <th>2</th>\n",
       "      <td>2016-03-14 12:52:00</td>\n",
       "      <td>9800</td>\n",
       "      <td>2004</td>\n",
       "      <td>163</td>\n",
       "      <td>grand</td>\n",
       "      <td>125000</td>\n",
       "      <td>jeep</td>\n",
       "      <td>2016-03-14</td>\n",
       "      <td>90480</td>\n",
       "      <td>2016-04-05 12:47:00</td>\n",
       "      <td>...</td>\n",
       "      <td>1</td>\n",
       "      <td>0</td>\n",
       "      <td>0</td>\n",
       "      <td>0</td>\n",
       "      <td>0</td>\n",
       "      <td>1</td>\n",
       "      <td>0</td>\n",
       "      <td>114</td>\n",
       "      <td>Other</td>\n",
       "      <td>0</td>\n",
       "    </tr>\n",
       "    <tr>\n",
       "      <th>3</th>\n",
       "      <td>2016-03-17 16:54:00</td>\n",
       "      <td>1500</td>\n",
       "      <td>2001</td>\n",
       "      <td>75</td>\n",
       "      <td>golf</td>\n",
       "      <td>150000</td>\n",
       "      <td>volkswagen</td>\n",
       "      <td>2016-03-17</td>\n",
       "      <td>91074</td>\n",
       "      <td>2016-03-17 17:40:00</td>\n",
       "      <td>...</td>\n",
       "      <td>1</td>\n",
       "      <td>0</td>\n",
       "      <td>0</td>\n",
       "      <td>0</td>\n",
       "      <td>0</td>\n",
       "      <td>0</td>\n",
       "      <td>0</td>\n",
       "      <td>113</td>\n",
       "      <td>volkswagen</td>\n",
       "      <td>10</td>\n",
       "    </tr>\n",
       "    <tr>\n",
       "      <th>4</th>\n",
       "      <td>2016-03-31 17:25:00</td>\n",
       "      <td>3600</td>\n",
       "      <td>2008</td>\n",
       "      <td>69</td>\n",
       "      <td>fabia</td>\n",
       "      <td>90000</td>\n",
       "      <td>skoda</td>\n",
       "      <td>2016-03-31</td>\n",
       "      <td>60437</td>\n",
       "      <td>2016-04-06 10:17:00</td>\n",
       "      <td>...</td>\n",
       "      <td>1</td>\n",
       "      <td>0</td>\n",
       "      <td>0</td>\n",
       "      <td>0</td>\n",
       "      <td>0</td>\n",
       "      <td>0</td>\n",
       "      <td>0</td>\n",
       "      <td>98</td>\n",
       "      <td>Other</td>\n",
       "      <td>0</td>\n",
       "    </tr>\n",
       "  </tbody>\n",
       "</table>\n",
       "<p>5 rows × 31 columns</p>\n",
       "</div>"
      ],
      "text/plain": [
       "          DateCrawled  Price  RegistrationYear  Power    Model  Mileage  \\\n",
       "0 2016-03-24 11:52:00    480              1993    110     golf   150000   \n",
       "1 2016-03-24 10:58:00  18300              2011    190  unknown   125000   \n",
       "2 2016-03-14 12:52:00   9800              2004    163    grand   125000   \n",
       "3 2016-03-17 16:54:00   1500              2001     75     golf   150000   \n",
       "4 2016-03-31 17:25:00   3600              2008     69    fabia    90000   \n",
       "\n",
       "        Brand DateCreated  PostalCode            LastSeen  ...  \\\n",
       "0  volkswagen  2016-03-24       70435 2016-04-07 03:16:00  ...   \n",
       "1        audi  2016-03-24       66954 2016-04-07 01:46:00  ...   \n",
       "2        jeep  2016-03-14       90480 2016-04-05 12:47:00  ...   \n",
       "3  volkswagen  2016-03-17       91074 2016-03-17 17:40:00  ...   \n",
       "4       skoda  2016-03-31       60437 2016-04-06 10:17:00  ...   \n",
       "\n",
       "   FuelType_gasoline  FuelType_hybrid  FuelType_natural_gas  FuelType_other  \\\n",
       "0                  1                0                     0               0   \n",
       "1                  1                0                     0               0   \n",
       "2                  1                0                     0               0   \n",
       "3                  1                0                     0               0   \n",
       "4                  1                0                     0               0   \n",
       "\n",
       "   FuelType_unknown  NotRepaired_unknown  NotRepaired_yes  Model_Label  \\\n",
       "0                 0                    1                0          113   \n",
       "1                 0                    0                1          220   \n",
       "2                 0                    1                0          114   \n",
       "3                 0                    0                0          113   \n",
       "4                 0                    0                0           98   \n",
       "\n",
       "   Brand_Cleaned  Brand_Label  \n",
       "0     volkswagen           10  \n",
       "1           audi            1  \n",
       "2          Other            0  \n",
       "3     volkswagen           10  \n",
       "4          Other            0  \n",
       "\n",
       "[5 rows x 31 columns]"
      ]
     },
     "execution_count": 41,
     "metadata": {},
     "output_type": "execute_result"
    }
   ],
   "source": [
    "data.head()"
   ]
  },
  {
   "cell_type": "markdown",
   "id": "06af43c2",
   "metadata": {},
   "source": [
    "# Models\n"
   ]
  },
  {
   "cell_type": "markdown",
   "id": "d150d184",
   "metadata": {},
   "source": [
    "## Feature selection"
   ]
  },
  {
   "cell_type": "code",
   "execution_count": 42,
   "id": "a809f040",
   "metadata": {},
   "outputs": [],
   "source": [
    "# Define the columns to drop \n",
    "drop_features = ['log_price', 'Price', 'DateCrawled', 'DateCreated', 'LastSeen', 'PostalCode']\n",
    "\n",
    "# Full feature set\n",
    "X_all = data.drop(drop_features, axis=1)\n",
    "\n",
    "# Define the target\n",
    "y = data['log_price']"
   ]
  },
  {
   "cell_type": "code",
   "execution_count": 43,
   "id": "a2baad30",
   "metadata": {},
   "outputs": [
    {
     "name": "stdout",
     "output_type": "stream",
     "text": [
      "Training set: (283148, 25) Validation set: (35394, 25) Test set: (35394, 25)\n"
     ]
    }
   ],
   "source": [
    "# First split: Train + Temp\n",
    "X_train_all, X_temp, y_train, y_temp = train_test_split(X_all, y, test_size=0.2, random_state=12345)\n",
    "\n",
    "# Second split: Validation + Test\n",
    "X_valid_all, X_test_all, y_valid, y_test = train_test_split(X_temp, y_temp, test_size=0.5, random_state=12345)\n",
    "\n",
    "# Print sizes to verify\n",
    "print(\"Training set:\", X_train_all.shape, \"Validation set:\", X_valid_all.shape, \"Test set:\", X_test_all.shape)"
   ]
  },
  {
   "cell_type": "markdown",
   "id": "e9c0e90e",
   "metadata": {},
   "source": [
    "## Linear Regression"
   ]
  },
  {
   "cell_type": "code",
   "execution_count": 44,
   "id": "79198b5e",
   "metadata": {
    "scrolled": true
   },
   "outputs": [
    {
     "name": "stdout",
     "output_type": "stream",
     "text": [
      "Linear regression features: Index(['RegistrationYear', 'Power', 'Mileage', 'VehicleType_convertible',\n",
      "       'VehicleType_coupe', 'VehicleType_other', 'VehicleType_sedan',\n",
      "       'VehicleType_small', 'VehicleType_suv', 'VehicleType_unknown',\n",
      "       ...\n",
      "       'Brand_seat', 'Brand_skoda', 'Brand_smart', 'Brand_sonstige_autos',\n",
      "       'Brand_subaru', 'Brand_suzuki', 'Brand_toyota', 'Brand_trabant',\n",
      "       'Brand_volkswagen', 'Brand_volvo'],\n",
      "      dtype='object', length=301)\n"
     ]
    }
   ],
   "source": [
    "# Linear regression features\n",
    "numeric_features_lr = ['RegistrationYear', 'Power', 'Mileage']  # True numeric features\n",
    "categorical_features_lr = ['Model', 'Brand']\n",
    "\n",
    "# OHE for categorical features\n",
    "X_ohe_train = pd.get_dummies(X_train_all, columns=categorical_features_lr, drop_first=True)\n",
    "X_ohe_valid = pd.get_dummies(X_valid_all, columns=categorical_features_lr, drop_first=True)\n",
    "X_ohe_test = pd.get_dummies(X_test_all, columns=categorical_features_lr, drop_first=True)\n",
    "\n",
    "# Reindex\n",
    "# Ensure the same feature columns exist across train, valid, and test sets\n",
    "X_ohe_valid = X_ohe_valid.reindex(columns=X_ohe_train.columns, fill_value=0)\n",
    "X_ohe_test = X_ohe_test.reindex(columns=X_ohe_train.columns, fill_value=0)\n",
    "\n",
    "# Scale only numeric features\n",
    "scaler = StandardScaler()\n",
    "X_ohe_train[numeric_features_lr] = scaler.fit_transform(X_ohe_train[numeric_features_lr])\n",
    "X_ohe_valid[numeric_features_lr] = scaler.transform(X_ohe_valid[numeric_features_lr])\n",
    "X_ohe_test[numeric_features_lr] = scaler.transform(X_ohe_test[numeric_features_lr])\n",
    "\n",
    "# Drop label encoded features\n",
    "X_ohe_train = X_ohe_train.drop(columns=['Model_Label', 'Brand_Label', 'Brand_Cleaned'])\n",
    "X_ohe_valid = X_ohe_valid.drop(columns=['Model_Label', 'Brand_Label', 'Brand_Cleaned'])\n",
    "X_ohe_test = X_ohe_test.drop(columns=['Model_Label', 'Brand_Label', 'Brand_Cleaned'])\n",
    "\n",
    "\n",
    "print(\"Linear regression features:\", X_ohe_train.columns)"
   ]
  },
  {
   "cell_type": "code",
   "execution_count": 45,
   "id": "22dde330",
   "metadata": {},
   "outputs": [
    {
     "name": "stdout",
     "output_type": "stream",
     "text": [
      "Linear Regression Training Time: 4.816642761230469 seconds\n",
      "Linear Regression Prediction Time: 0.045762062072753906 seconds\n",
      "Linear Regression RMSE in price scale: 3031.6858426750564 euros\n"
     ]
    }
   ],
   "source": [
    "# Define the model\n",
    "lr_model = LinearRegression()\n",
    "\n",
    "# Measure training time\n",
    "lr_start_train_time = time.time()\n",
    "lr_model.fit(X_ohe_train, y_train)\n",
    "lr_end_train_time = time.time()\n",
    "lr_training_time = lr_end_train_time - lr_start_train_time\n",
    "print(\"Linear Regression Training Time:\", lr_training_time, \"seconds\")\n",
    "\n",
    "\n",
    "# Measure prediction time\n",
    "lr_start_predict_time = time.time()\n",
    "lr_predictions_log = lr_model.predict(X_ohe_valid)\n",
    "lr_end_predict_time = time.time()\n",
    "lr_predict_time = lr_end_predict_time - lr_start_predict_time\n",
    "print(\"Linear Regression Prediction Time:\", lr_predict_time, \"seconds\")\n",
    "\n",
    "# Calculate RMSE (quality of prediction)\n",
    "lr_predictions = np.exp(lr_predictions_log)\n",
    "y_valid_original = np.exp(y_valid)  # Convert actual values back\n",
    "\n",
    "lr_rmse_price_scale = root_mean_squared_error(y_valid_original, lr_predictions)\n",
    "print(\"Linear Regression RMSE in price scale:\", lr_rmse_price_scale, \"euros\")"
   ]
  },
  {
   "cell_type": "code",
   "execution_count": 46,
   "id": "9897de92",
   "metadata": {},
   "outputs": [
    {
     "name": "stdout",
     "output_type": "stream",
     "text": [
      "Ridge Regression RMSE in price scale: 3029.9153948541216 euros\n"
     ]
    }
   ],
   "source": [
    "# Testing regularization\n",
    "from sklearn.linear_model import Ridge\n",
    "\n",
    "# Initialize Ridge Regression with alpha = 1.0 (default)\n",
    "ridge_model = Ridge(alpha=1.0)\n",
    "\n",
    "# Train Ridge model\n",
    "ridge_model.fit(X_ohe_train, y_train)\n",
    "\n",
    "# Predict on validation set\n",
    "ridge_predictions_log = ridge_model.predict(X_ohe_valid)\n",
    "\n",
    "# Calculate RMSE (quality of prediction)\n",
    "ridge_predictions = np.exp(ridge_predictions_log)\n",
    "y_valid_original = np.exp(y_valid)  # Convert actual values back\n",
    "\n",
    "ridge_rmse_price_scale = root_mean_squared_error(y_valid_original, ridge_predictions)\n",
    "print(\"Ridge Regression RMSE in price scale:\", ridge_rmse_price_scale, \"euros\")"
   ]
  },
  {
   "cell_type": "markdown",
   "id": "ce644e09",
   "metadata": {},
   "source": [
    "The RMSE was still very high. Moving on to Random Forest!"
   ]
  },
  {
   "cell_type": "markdown",
   "id": "26603f7b",
   "metadata": {},
   "source": [
    "## Random Forest"
   ]
  },
  {
   "cell_type": "code",
   "execution_count": 47,
   "id": "be1fd387",
   "metadata": {},
   "outputs": [
    {
     "name": "stdout",
     "output_type": "stream",
     "text": [
      "Random Forest Features: Index(['RegistrationYear', 'Power', 'Mileage', 'VehicleType_convertible',\n",
      "       'VehicleType_coupe', 'VehicleType_other', 'VehicleType_sedan',\n",
      "       'VehicleType_small', 'VehicleType_suv', 'VehicleType_unknown',\n",
      "       'VehicleType_wagon', 'Gearbox_manual', 'Gearbox_unknown',\n",
      "       'FuelType_gasoline', 'FuelType_hybrid', 'FuelType_natural_gas',\n",
      "       'FuelType_other', 'FuelType_unknown', 'NotRepaired_unknown',\n",
      "       'NotRepaired_yes', 'Model_Label', 'Brand_Label'],\n",
      "      dtype='object')\n"
     ]
    }
   ],
   "source": [
    "cat_features=['Model', 'Brand', 'Brand_Cleaned']  # Need label/OHE before training\n",
    "\n",
    "X_tree_train = X_train_all.drop(cat_features, axis=1)  \n",
    "X_tree_valid = X_valid_all.drop(cat_features, axis=1)  \n",
    "X_tree_test = X_test_all.drop(cat_features, axis=1)  \n",
    "\n",
    "print(\"Random Forest Features:\", X_tree_train.columns)"
   ]
  },
  {
   "cell_type": "code",
   "execution_count": 48,
   "id": "d1a2d439",
   "metadata": {
    "scrolled": true
   },
   "outputs": [
    {
     "name": "stdout",
     "output_type": "stream",
     "text": [
      "Fitting 2 folds for each of 48 candidates, totalling 96 fits\n",
      "Training Time for the best RF estimator: 13.307289838790894 seconds\n",
      "Random Forest Prediction Time 0.6617710590362549 seconds\n",
      "RF Regression RMSE in price scale: 2189.8752129039226 euros\n"
     ]
    }
   ],
   "source": [
    "# Define the parameter grid: lots of options = slow\n",
    "random_grid = {\n",
    "    'n_estimators': [50, 100],\n",
    "    'max_depth': [10, 30],\n",
    "    'min_samples_split': [5, 10],\n",
    "    'min_samples_leaf': [1, 2, 4],\n",
    "    'max_features': [None, 'sqrt']\n",
    "}\n",
    "\n",
    "# Define the model \n",
    "rf_model = RandomForestRegressor(random_state=123)\n",
    "\n",
    "# GridSearchCV - using 3-fold cross-validation\n",
    "grid_search_rf = GridSearchCV(\n",
    "    estimator=rf_model,\n",
    "    param_grid=random_grid,\n",
    "    cv=2,\n",
    "    scoring='neg_root_mean_squared_error', \n",
    "    n_jobs= -1, \n",
    "    verbose = 1\n",
    ")\n",
    "\n",
    "\n",
    "# Fit the grid search to the training data\n",
    "grid_search_rf.fit(X_tree_train, y_train)\n",
    "\n",
    "\n",
    "# Get the best model found by GridSearchCV\n",
    "best_rf_model = grid_search_rf.best_estimator_\n",
    "\n",
    "\n",
    "# Measure training time for the best estimator\n",
    "rf_start_train_time = time.time()\n",
    "best_rf_model.fit(X_tree_train, y_train)\n",
    "rf_end_train_time = time.time()\n",
    "rf_training_time = rf_end_train_time - rf_start_train_time\n",
    "print(\"Training Time for the best RF estimator:\", rf_training_time ,\"seconds\")\n",
    "\n",
    "\n",
    "# Predictions\n",
    "rf_start_predict_time = time.time()\n",
    "rf_predictions_log = best_rf_model.predict(X_tree_valid)\n",
    "rf_end_predict_time = time.time()\n",
    "rf_predict_time = rf_end_predict_time - rf_start_predict_time\n",
    "print(\"Random Forest Prediction Time\",rf_predict_time, \"seconds\")\n",
    "\n",
    "\n",
    "# Calculate RMSE (quality of prediction)\n",
    "rf_predictions = np.exp(rf_predictions_log)\n",
    "y_valid_original = np.exp(y_valid)  # Convert actual values back\n",
    "\n",
    "rf_rmse_price_scale = root_mean_squared_error(y_valid_original, rf_predictions)\n",
    "print(\"RF Regression RMSE in price scale:\", rf_rmse_price_scale, \"euros\")"
   ]
  },
  {
   "cell_type": "markdown",
   "id": "1941bd1e",
   "metadata": {},
   "source": [
    "The Random Forest model took much longer to train than the Linear Regression model, but it significantly reduces RMSE, improving accuracy. \n",
    "\n",
    "There is still room for improvement, so we'll move on to other models!"
   ]
  },
  {
   "cell_type": "markdown",
   "id": "1eec29da",
   "metadata": {},
   "source": [
    "## Gradient Boosts"
   ]
  },
  {
   "cell_type": "code",
   "execution_count": 49,
   "id": "1ab9da05",
   "metadata": {},
   "outputs": [
    {
     "name": "stdout",
     "output_type": "stream",
     "text": [
      "CatBoost features Index(['RegistrationYear', 'Power', 'Model', 'Mileage',\n",
      "       'VehicleType_convertible', 'VehicleType_coupe', 'VehicleType_other',\n",
      "       'VehicleType_sedan', 'VehicleType_small', 'VehicleType_suv',\n",
      "       'VehicleType_unknown', 'VehicleType_wagon', 'Gearbox_manual',\n",
      "       'Gearbox_unknown', 'FuelType_gasoline', 'FuelType_hybrid',\n",
      "       'FuelType_natural_gas', 'FuelType_other', 'FuelType_unknown',\n",
      "       'NotRepaired_unknown', 'NotRepaired_yes', 'Brand_Cleaned'],\n",
      "      dtype='object')\n"
     ]
    }
   ],
   "source": [
    "# Categorical columns for catboost\n",
    "categorical_features = ['Model', 'Brand_Cleaned']\n",
    "\n",
    "# Convert categorical features to type category\n",
    "X_cat_train = X_train_all.copy()\n",
    "X_cat_valid = X_valid_all.copy()\n",
    "X_cat_test = X_test_all.copy()\n",
    "\n",
    "\n",
    "for col in categorical_features:\n",
    "    X_cat_train[col] = X_cat_train[col].astype('category')\n",
    "    X_cat_valid[col] = X_cat_valid[col].astype('category')\n",
    "    X_cat_test[col] = X_cat_test[col].astype('category')\n",
    "\n",
    "# OHE columns remain because CatBoost can handle both categorical & numeric inputs\n",
    "# Drop Label Encoded columns (since we are using the original categorical versions)\n",
    "X_cat_train = X_cat_train.drop(columns=['Brand', 'Model_Label', 'Brand_Label'])\n",
    "X_cat_valid = X_cat_valid.drop(columns=['Brand', 'Model_Label', 'Brand_Label'])\n",
    "X_cat_test = X_cat_test.drop(columns=['Brand', 'Model_Label', 'Brand_Label'])\n",
    "\n",
    "print(\"CatBoost features\", X_cat_train.columns)"
   ]
  },
  {
   "cell_type": "code",
   "execution_count": 50,
   "id": "2add47da",
   "metadata": {},
   "outputs": [
    {
     "name": "stdout",
     "output_type": "stream",
     "text": [
      "Fitting 3 folds for each of 10 candidates, totalling 30 fits\n",
      "0:\tlearn: 1.7596570\ttest: 1.7664486\tbest: 1.7664486 (0)\ttotal: 106ms\tremaining: 21.1s\n",
      "50:\tlearn: 1.3538189\ttest: 1.3644563\tbest: 1.3644563 (50)\ttotal: 2.24s\tremaining: 6.55s\n",
      "100:\tlearn: 1.3381147\ttest: 1.3513138\tbest: 1.3513138 (100)\ttotal: 4.14s\tremaining: 4.05s\n",
      "150:\tlearn: 1.3302498\ttest: 1.3464783\tbest: 1.3464783 (150)\ttotal: 5.99s\tremaining: 1.95s\n",
      "199:\tlearn: 1.3237943\ttest: 1.3430110\tbest: 1.3430110 (199)\ttotal: 8.26s\tremaining: 0us\n",
      "\n",
      "bestTest = 1.343010984\n",
      "bestIteration = 199\n",
      "\n",
      "0:\tlearn: 1.7596570\ttest: 1.7664486\tbest: 1.7664486 (0)\ttotal: 62.2ms\tremaining: 12.4s\n",
      "50:\tlearn: 1.3538189\ttest: 1.3644563\tbest: 1.3644563 (50)\ttotal: 2.17s\tremaining: 6.33s\n",
      "100:\tlearn: 1.3381147\ttest: 1.3513138\tbest: 1.3513138 (100)\ttotal: 4.13s\tremaining: 4.05s\n",
      "150:\tlearn: 1.3302498\ttest: 1.3464783\tbest: 1.3464783 (150)\ttotal: 6.03s\tremaining: 1.96s\n",
      "199:\tlearn: 1.3237943\ttest: 1.3430110\tbest: 1.3430110 (199)\ttotal: 7.87s\tremaining: 0us\n",
      "\n",
      "bestTest = 1.343010984\n",
      "bestIteration = 199\n",
      "\n",
      "CatBoost Training Time: 8.008995771408081 seconds\n",
      "CatBoostClassifier Prediction Time: 0.01368403434753418 seconds\n",
      "CatBoostClassifier RMSE in price scale: 2240.61127519782 euros\n"
     ]
    }
   ],
   "source": [
    "catboost_grid = {\n",
    "    'iterations': [200, 300],\n",
    "    'learning_rate': [0.03, 0.07],\n",
    "    'depth': [6, 8],\n",
    "    'l2_leaf_reg': [5, 10], # prevents overfitting\n",
    "    'subsample': [0.8] # use 80% of data per boosting iteration\n",
    "}\n",
    "\n",
    "# Define the model\n",
    "cat_model = CatBoostRegressor(\n",
    "    cat_features=categorical_features,  \n",
    "    random_seed=12345,\n",
    "    use_best_model=True,\n",
    "    verbose=50  # Only prints every 50 iterations\n",
    ")\n",
    "# Fit the grid\n",
    "grid_search_cat = RandomizedSearchCV(\n",
    "    estimator=cat_model,\n",
    "    param_distributions=catboost_grid,\n",
    "    n_iter=10, # RandomizedSearch lets you limit number of total searches\n",
    "    cv=3,\n",
    "    scoring='neg_root_mean_squared_error', \n",
    "    n_jobs= -1, \n",
    "    verbose = 1\n",
    ")\n",
    "\n",
    "# Fit the grid search to the training data\n",
    "grid_search_cat.fit(\n",
    "    X_cat_train, y_train,\n",
    "    **{'eval_set': [(X_cat_valid, y_valid)], 'early_stopping_rounds': 100}\n",
    ")\n",
    "\n",
    "# Assign the best model\n",
    "best_cat_model = grid_search_cat.best_estimator_\n",
    "\n",
    "\n",
    "# Measure the time it takes to train the best model \n",
    "cat_start_training_time = time.time()\n",
    "best_cat_model.fit(X_cat_train, y_train,\n",
    "                   eval_set=(X_cat_valid, y_valid),\n",
    "                   early_stopping_rounds=50)\n",
    "cat_end_training_time = time.time()\n",
    "cat_training_time = cat_end_training_time - cat_start_training_time\n",
    "print(\"CatBoost Training Time:\", cat_training_time, \"seconds\")\n",
    "\n",
    "best_cat_params = grid_search_cat.best_params_  #Store the best parameters\n",
    "\n",
    "\n",
    "# Predict\n",
    "cat_predict_start_time = time.time()\n",
    "catboost_predictions_log = best_cat_model.predict(X_cat_valid)\n",
    "cat_predict_end_time = time.time()\n",
    "cat_predict_time = cat_predict_end_time - cat_predict_start_time\n",
    "print(\"CatBoostClassifier Prediction Time:\", cat_predict_time, \"seconds\")\n",
    "\n",
    "# Metrics\n",
    "catboost_predictions = np.exp(catboost_predictions_log)\n",
    "y_valid_original = np.exp(y_valid)\n",
    "catboost_rmse_price_scale = root_mean_squared_error(y_valid_original, catboost_predictions)\n",
    "print(\"CatBoostClassifier RMSE in price scale:\", catboost_rmse_price_scale, \"euros\")"
   ]
  },
  {
   "cell_type": "code",
   "execution_count": 51,
   "id": "75cd9dc4",
   "metadata": {
    "scrolled": false
   },
   "outputs": [
    {
     "name": "stdout",
     "output_type": "stream",
     "text": [
      "LightGBM features Index(['RegistrationYear', 'Power', 'Model', 'Mileage',\n",
      "       'VehicleType_convertible', 'VehicleType_coupe', 'VehicleType_other',\n",
      "       'VehicleType_sedan', 'VehicleType_small', 'VehicleType_suv',\n",
      "       'VehicleType_unknown', 'VehicleType_wagon', 'Gearbox_manual',\n",
      "       'Gearbox_unknown', 'FuelType_gasoline', 'FuelType_hybrid',\n",
      "       'FuelType_natural_gas', 'FuelType_other', 'FuelType_unknown',\n",
      "       'NotRepaired_unknown', 'NotRepaired_yes', 'Brand_Cleaned'],\n",
      "      dtype='object')\n"
     ]
    }
   ],
   "source": [
    "# LightGBM\n",
    "categorical_features_lgb = ['Model', 'Brand_Cleaned']\n",
    "\n",
    "# Convert categorical features to type category\n",
    "X_lgb_train = X_train_all.copy()\n",
    "X_lgb_valid = X_valid_all.copy()\n",
    "X_lgb_test = X_test_all.copy()\n",
    "\n",
    "for col in categorical_features:\n",
    "    X_lgb_train[col] = X_lgb_train[col].astype('category')\n",
    "    X_lgb_valid[col] = X_lgb_valid[col].astype('category')\n",
    "    X_lgb_test[col] = X_lgb_test[col].astype('category')\n",
    "\n",
    "\n",
    "\n",
    "# OHE columns remain because CatBoost can handle both categorical & numeric inputs\n",
    "# Drop Label Encoded columns (since we are using the original categorical versions)\n",
    "X_lgb_train = X_lgb_train.drop(columns=['Brand', 'Model_Label', 'Brand_Label'])\n",
    "X_lgb_valid = X_lgb_valid.drop(columns=['Brand', 'Model_Label', 'Brand_Label'])\n",
    "X_lgb_test = X_lgb_test.drop(columns=['Brand', 'Model_Label', 'Brand_Label'])\n",
    "\n",
    "print(\"LightGBM features\", X_lgb_train.columns)"
   ]
  },
  {
   "cell_type": "code",
   "execution_count": 52,
   "id": "a9f6e51d",
   "metadata": {
    "scrolled": false
   },
   "outputs": [
    {
     "name": "stdout",
     "output_type": "stream",
     "text": [
      "LightGBM Training Time: 2.6859660148620605 seconds\n",
      "LightGBM Prediction Time: 0.1232750415802002 seconds\n",
      "LightGBM RMSE in price scale: 2122.0949626556403 euros\n"
     ]
    }
   ],
   "source": [
    "lgb_grid = {\n",
    "    'num_leaves': [31, 50, 70], \n",
    "    'max_depth': [-1, 10, 15],  # -1 means \"no limit\"\n",
    "    'learning_rate': [0.05, 0.1],  \n",
    "    'n_estimators': [100, 300],  \n",
    "    'min_child_samples': [10, 20], \n",
    "    'subsample': [0.8, 1.0],  # Row sampling\n",
    "    'colsample_bytree': [0.8, 1.0]  # Feature sampling\n",
    "}\n",
    "\n",
    "# Initialize LightGBM model\n",
    "lgb_model = lgb.LGBMRegressor(random_state=12345, verbose=0)\n",
    "\n",
    "# Use RandomizedSearchCV for efficient tuning\n",
    "grid_search_lgb = RandomizedSearchCV(\n",
    "    estimator=lgb_model,\n",
    "    param_distributions=lgb_grid,\n",
    "    n_iter=10,  # Limit number of hyperparameter combinations tested\n",
    "    cv=3,  # 3-fold cross-validation\n",
    "    scoring='neg_root_mean_squared_error',\n",
    "    n_jobs=-1,\n",
    "    verbose=0\n",
    ")\n",
    "\n",
    "\n",
    "# Fit the grid search\n",
    "grid_search_lgb.fit(X_lgb_train, y_train)\n",
    "\n",
    "# Get the best model\n",
    "best_lgb_model = grid_search_lgb.best_estimator_\n",
    "\n",
    "\n",
    "# Measure the time it takes to train the best model \n",
    "lgb_start_training_time = time.time()\n",
    "best_lgb_model.fit(X_lgb_train, y_train)\n",
    "lgb_end_training_time = time.time()\n",
    "lgb_training_time = lgb_end_training_time - lgb_start_training_time\n",
    "print(\"LightGBM Training Time:\", lgb_training_time, \"seconds\")\n",
    "\n",
    "best_lgb_params = grid_search_lgb.best_params_  #Store the best parameters\n",
    "\n",
    "# Predictions\n",
    "lgb_predict_start_time = time.time()\n",
    "lgb_predictions_log = best_lgb_model.predict(X_lgb_valid)\n",
    "lgb_predict_end_time = time.time()\n",
    "lgb_predict_time = lgb_predict_end_time - lgb_predict_start_time\n",
    "print(\"LightGBM Prediction Time:\", lgb_predict_time, \"seconds\")\n",
    "\n",
    "# RMSE Calculation\n",
    "lgb_predictions = np.exp(lgb_predictions_log)\n",
    "y_valid_original = np.exp(y_valid)\n",
    "lgb_rmse_price_scale = root_mean_squared_error(y_valid_original, lgb_predictions)\n",
    "print(\"LightGBM RMSE in price scale:\", lgb_rmse_price_scale, \"euros\")"
   ]
  },
  {
   "cell_type": "code",
   "execution_count": 53,
   "id": "0c9b0766",
   "metadata": {},
   "outputs": [
    {
     "name": "stdout",
     "output_type": "stream",
     "text": [
      "XGBoost features Index(['RegistrationYear', 'Power', 'Mileage', 'VehicleType_convertible',\n",
      "       'VehicleType_coupe', 'VehicleType_other', 'VehicleType_sedan',\n",
      "       'VehicleType_small', 'VehicleType_suv', 'VehicleType_unknown',\n",
      "       'VehicleType_wagon', 'Gearbox_manual', 'Gearbox_unknown',\n",
      "       'FuelType_gasoline', 'FuelType_hybrid', 'FuelType_natural_gas',\n",
      "       'FuelType_other', 'FuelType_unknown', 'NotRepaired_unknown',\n",
      "       'NotRepaired_yes', 'Model_Label', 'Brand_Label'],\n",
      "      dtype='object')\n"
     ]
    }
   ],
   "source": [
    "# XGBoost - Requires numerical data\n",
    "\n",
    "# Copy data before modifying\n",
    "X_xgb_train = X_train_all.copy()\n",
    "X_xgb_valid = X_valid_all.copy()\n",
    "X_xgb_test = X_test_all.copy()\n",
    "\n",
    "# Drop text-based categorical columns but KEEP the label-encoded versions\n",
    "X_xgb_train = X_xgb_train.drop(columns=['Brand', 'Model', 'Brand_Cleaned'])\n",
    "X_xgb_valid = X_xgb_valid.drop(columns=['Brand', 'Model', 'Brand_Cleaned'])\n",
    "X_xgb_test = X_xgb_test.drop(columns=['Brand', 'Model', 'Brand_Cleaned'])\n",
    "\n",
    "\n",
    "print(\"XGBoost features\", X_xgb_train.columns)"
   ]
  },
  {
   "cell_type": "code",
   "execution_count": 54,
   "id": "9e73bf7e",
   "metadata": {},
   "outputs": [
    {
     "name": "stdout",
     "output_type": "stream",
     "text": [
      "XGBoost Training Time: 2.1396241188049316 seconds\n",
      "XGBoost Prediction Time: 0.05769014358520508 seconds\n",
      "XGBoost RMSE in price scale: 2136.9136560413835 euros\n"
     ]
    }
   ],
   "source": [
    "xgb_grid = {\n",
    "    'booster': ['gbtree'],  # Explicitly set gbtree (default)\n",
    "    'n_estimators': [100, 300],\n",
    "    'learning_rate': [0.05, 0.1],\n",
    "    'max_depth': [6, 8],\n",
    "    'min_child_weight': [1, 3],\n",
    "    'subsample': [0.8, 1.0], # Introducing randomness to prevent overfitting\n",
    "    'reg_lambda': [0.01, 0.1, 1] #L2 regularization\n",
    "}\n",
    "\n",
    "# Initialize the model\n",
    "xgb_model = xgb.XGBRegressor(\n",
    "    objective='reg:squarederror',  # Standard for regression problems\n",
    "    eval_metric='rmse',  # XGBoost's built-in RMSE metric\n",
    "    random_state=12345,  # Ensures reproducibility\n",
    "    n_jobs=-1  # Uses all available CPU cores for training\n",
    ")\n",
    "\n",
    "\n",
    "grid_search_xgb = RandomizedSearchCV(\n",
    "    estimator=xgb_model,\n",
    "    param_distributions=xgb_grid,\n",
    "    n_iter=10,  # Limit number of hyperparameter combinations tested\n",
    "    cv=3,  # 3-fold cross-validation\n",
    "    scoring='neg_root_mean_squared_error',\n",
    "    n_jobs=-1,\n",
    "    verbose=0\n",
    ")\n",
    "\n",
    "# Fit using the grid search\n",
    "grid_search_xgb.fit(X_xgb_train, y_train)\n",
    "\n",
    "# Get the best model\n",
    "# Ensure best model is defined before using it\n",
    "if 'grid_search_xgb' in locals() and hasattr(grid_search_xgb, \"best_estimator_\"):\n",
    "    best_xgb_model = grid_search_xgb.best_estimator_\n",
    "else:\n",
    "    raise ValueError(\"Error: best_xgb_model not found. Make sure RandomizedSearchCV ran successfully.\")\n",
    "\n",
    "# Measure the training time for the best model \n",
    "xgb_start_training_time = time.time()\n",
    "best_xgb_model.fit(X_xgb_train, y_train)\n",
    "xgb_end_training_time = time.time()\n",
    "xgb_training_time = xgb_end_training_time - xgb_start_training_time\n",
    "print(\"XGBoost Training Time:\", xgb_training_time, \"seconds\")\n",
    "\n",
    "best_xgb_params = grid_search_xgb.best_params_  #Store the best parameters\n",
    "\n",
    "# Predictions\n",
    "xgb_predict_start_time = time.time()\n",
    "xgb_predictions_log = best_xgb_model.predict(X_xgb_valid)\n",
    "xgb_predict_end_time = time.time()\n",
    "xgb_predict_time = xgb_predict_end_time - xgb_predict_start_time\n",
    "print(\"XGBoost Prediction Time:\", xgb_predict_time, \"seconds\")\n",
    "\n",
    "# RMSE Calculation\n",
    "xgb_predictions = np.exp(xgb_predictions_log)\n",
    "y_valid_original = np.exp(y_valid)\n",
    "xgb_rmse_price_scale = root_mean_squared_error(y_valid_original, xgb_predictions)\n",
    "print(\"XGBoost RMSE in price scale:\", xgb_rmse_price_scale, \"euros\")"
   ]
  },
  {
   "cell_type": "code",
   "execution_count": 55,
   "id": "8303e484",
   "metadata": {
    "scrolled": true
   },
   "outputs": [
    {
     "data": {
      "text/html": [
       "<div>\n",
       "<style scoped>\n",
       "    .dataframe tbody tr th:only-of-type {\n",
       "        vertical-align: middle;\n",
       "    }\n",
       "\n",
       "    .dataframe tbody tr th {\n",
       "        vertical-align: top;\n",
       "    }\n",
       "\n",
       "    .dataframe thead th {\n",
       "        text-align: right;\n",
       "    }\n",
       "</style>\n",
       "<table border=\"1\" class=\"dataframe\">\n",
       "  <thead>\n",
       "    <tr style=\"text-align: right;\">\n",
       "      <th></th>\n",
       "      <th>Model</th>\n",
       "      <th>Training Time (s)</th>\n",
       "      <th>Prediction Time (s)</th>\n",
       "      <th>RMSE (Price Scale)</th>\n",
       "    </tr>\n",
       "  </thead>\n",
       "  <tbody>\n",
       "    <tr>\n",
       "      <th>0</th>\n",
       "      <td>Linear Regression</td>\n",
       "      <td>4.816643</td>\n",
       "      <td>0.045762</td>\n",
       "      <td>3031.685843</td>\n",
       "    </tr>\n",
       "    <tr>\n",
       "      <th>1</th>\n",
       "      <td>Random Forest</td>\n",
       "      <td>13.307290</td>\n",
       "      <td>0.661771</td>\n",
       "      <td>2189.875213</td>\n",
       "    </tr>\n",
       "    <tr>\n",
       "      <th>2</th>\n",
       "      <td>CatBoost</td>\n",
       "      <td>8.008996</td>\n",
       "      <td>0.013684</td>\n",
       "      <td>2240.611275</td>\n",
       "    </tr>\n",
       "    <tr>\n",
       "      <th>3</th>\n",
       "      <td>LightGBM</td>\n",
       "      <td>2.685966</td>\n",
       "      <td>0.123275</td>\n",
       "      <td>2122.094963</td>\n",
       "    </tr>\n",
       "    <tr>\n",
       "      <th>4</th>\n",
       "      <td>XGBoost</td>\n",
       "      <td>2.139624</td>\n",
       "      <td>0.057690</td>\n",
       "      <td>2136.913656</td>\n",
       "    </tr>\n",
       "  </tbody>\n",
       "</table>\n",
       "</div>"
      ],
      "text/plain": [
       "               Model  Training Time (s)  Prediction Time (s)  \\\n",
       "0  Linear Regression           4.816643             0.045762   \n",
       "1      Random Forest          13.307290             0.661771   \n",
       "2           CatBoost           8.008996             0.013684   \n",
       "3           LightGBM           2.685966             0.123275   \n",
       "4            XGBoost           2.139624             0.057690   \n",
       "\n",
       "   RMSE (Price Scale)  \n",
       "0         3031.685843  \n",
       "1         2189.875213  \n",
       "2         2240.611275  \n",
       "3         2122.094963  \n",
       "4         2136.913656  "
      ]
     },
     "metadata": {},
     "output_type": "display_data"
    }
   ],
   "source": [
    "# Compare the results \n",
    "\n",
    "# Define model names\n",
    "model_names = [\"Linear Regression\", \"Random Forest\", \"CatBoost\", \"LightGBM\", \"XGBoost\"]\n",
    "\n",
    "# Collect dynamically generated variables\n",
    "training_times = [lr_training_time, rf_training_time, cat_training_time, lgb_training_time, xgb_training_time]\n",
    "prediction_times = [lr_predict_time, rf_predict_time, cat_predict_time, lgb_predict_time, xgb_predict_time]\n",
    "rmse_values = [lr_rmse_price_scale, rf_rmse_price_scale, catboost_rmse_price_scale, lgb_rmse_price_scale, xgb_rmse_price_scale]\n",
    "\n",
    "# Create a DataFrame\n",
    "model_comparison_df = pd.DataFrame({\n",
    "    \"Model\": model_names,\n",
    "    \"Training Time (s)\": training_times,\n",
    "    \"Prediction Time (s)\": prediction_times,\n",
    "    \"RMSE (Price Scale)\": rmse_values\n",
    "})\n",
    "\n",
    "display(model_comparison_df)"
   ]
  },
  {
   "cell_type": "code",
   "execution_count": 56,
   "id": "195d9e0e",
   "metadata": {
    "scrolled": false
   },
   "outputs": [
    {
     "data": {
      "image/png": "[encoded data removed]",
      "text/plain": [
       "<Figure size 1800x500 with 3 Axes>"
      ]
     },
     "metadata": {},
     "output_type": "display_data"
    }
   ],
   "source": [
    "# Set seaborn style\n",
    "sns.set_style(\"whitegrid\")\n",
    "\n",
    "# Define metrics to plot\n",
    "metrics = [\"Training Time (s)\", \"Prediction Time (s)\", \"RMSE (Price Scale)\"]\n",
    "titles = [\"Training Time Comparison\", \"Prediction Time Comparison\", \"RMSE (Lower is Better)\"]\n",
    "\n",
    "# Sort DataFrame by RMSE first, then by Training Time (for better readability)\n",
    "model_comparison_df = model_comparison_df.sort_values(by=[\"RMSE (Price Scale)\", \"Training Time (s)\"], ascending=[True, True])\n",
    "\n",
    "# Create figure & subplots dynamically\n",
    "fig, axes = plt.subplots(1, 3, figsize=(18, 5))\n",
    "\n",
    "# Loop through the metrics & create each plot\n",
    "for i, metric in enumerate(metrics):\n",
    "    sns.barplot(x=metric, y=\"Model\", data=model_comparison_df, ax=axes[i], palette=\"viridis\")\n",
    "    axes[i].set_title(titles[i])\n",
    "    axes[i].set_xlabel(metric)\n",
    "    axes[i].set_ylabel(\"\")\n",
    "\n",
    "# Adjust layout and display\n",
    "plt.tight_layout()\n",
    "plt.show()"
   ]
  },
  {
   "cell_type": "markdown",
   "id": "aa3b87cc",
   "metadata": {},
   "source": [
    "## Conclusions from comparing the models\n",
    "\n",
    "**Recommendation: XGBoost**\n",
    "\n",
    "After considering both performance (RMSE) and efficiency (training & prediction time), XGBoost stands out as the best model for this task and this dataset with ~350K rows.\n",
    "\n",
    "Key metrics for XGBoost: \n",
    "- Quality of the prediction (RMSE): 2136.91 euros\n",
    "- Speed of the prediction (Prediction Time): ~0.05 seconds\t\n",
    "- Time required for training: ~1.97 seconds\n",
    "\n",
    "Why XGBoost? It provides the best balance of accuracy, training efficiency, and prediction speed, making it the most practical choice."
   ]
  },
  {
   "cell_type": "markdown",
   "id": "6ee3dcd8",
   "metadata": {},
   "source": [
    "# Evaluating the model\n",
    "\n",
    "## Test XGBoost"
   ]
  },
  {
   "cell_type": "code",
   "execution_count": 57,
   "id": "14e232b7",
   "metadata": {},
   "outputs": [
    {
     "name": "stdout",
     "output_type": "stream",
     "text": [
      "XGBoost Test Training Time: 2.1480441093444824 seconds\n",
      "XGBoost Test Prediction Time: 0.047119855880737305 seconds\n",
      "XGBoost RMSE in price scale: 2136.6917055961044 euros\n"
     ]
    }
   ],
   "source": [
    "# Retrain using the training + validation\n",
    "# Combine train and validation sets\n",
    "X_xgb_final_train = pd.concat([X_xgb_train, X_xgb_valid]).reset_index(drop=True)\n",
    "y_final_train = pd.concat([y_train, y_valid]).reset_index(drop=True)\n",
    "\n",
    "# Train XGBoost on full training data\n",
    "xgb_test_train_start_time = time.time()\n",
    "best_xgb_model.fit(X_xgb_final_train, y_final_train)\n",
    "xgb_test_train_end_time = time.time()\n",
    "xgb_test_train_time = xgb_test_train_end_time - xgb_test_train_start_time\n",
    "print(\"XGBoost Test Training Time:\", xgb_test_train_time, \"seconds\")\n",
    "\n",
    "X_xgb_test = X_xgb_test.reindex(columns=X_xgb_final_train.columns, fill_value=0)\n",
    "\n",
    "# Predictions on test set\n",
    "xgb_test_start_time = time.time()\n",
    "xgb_test_predictions_log = best_xgb_model.predict(X_xgb_test)\n",
    "xgb_test_end_time = time.time()\n",
    "xgb_test_predict_time = xgb_test_end_time - xgb_test_start_time\n",
    "print(\"XGBoost Test Prediction Time:\", xgb_test_predict_time, \"seconds\")\n",
    "\n",
    "# RMSE Calculation\n",
    "xgb_test_predictions = np.exp(xgb_test_predictions_log)\n",
    "y_test_original = np.exp(y_test)\n",
    "xgb_test_rmse_price_scale = root_mean_squared_error(y_test_original, xgb_test_predictions)\n",
    "print(\"XGBoost RMSE in price scale:\", xgb_test_rmse_price_scale, \"euros\")"
   ]
  },
  {
   "cell_type": "markdown",
   "id": "5a6ee1a1",
   "metadata": {},
   "source": [
    "# Conclusion\n",
    "\n",
    "**Overview**\n",
    "This project aimed to develop an accurate and efficient model for predicting used car prices based on historical sales data. We explored multiple machine learning models, balancing prediction quality, training time, and speed to determine the best-performing model.\n",
    "\n",
    "**Key Findings from our Model Evaluation**\n",
    "After testing Linear Regression, Random Forest, CatBoost, LightGBM, and XGBoost, we found that XGBoost provided the best balance between accuracy, training efficiency, and prediction speed.\n",
    "\n",
    "**Final Verdict: XGBoost is the best model**\n",
    "\n",
    "- After testing, the quality of predictions (RMSE) was identical. Both the test and validation RMSE scores were 2136.69 €, show the model learned general patterns and is not memorizing training data. Since the values are so close, it also indicates that this is a well-balanced model. (If RMSE was significantly higher or lower, that'd indicate overfitting or underfitting.) \n",
    "\n",
    "- The prediction speed remained very fast at ~0.5 seconds. \n",
    "- The time required to train the test model was a very efficient ~2.15 seconds considering the size of the dataset at ~350K rows."
   ]
  },
  {
   "cell_type": "markdown",
   "id": "d7faf786",
   "metadata": {},
   "source": [
    "## Future considerations\n",
    "\n",
    "We could save or export this model for future use. "
   ]
  },
  {
   "cell_type": "code",
   "execution_count": null,
   "id": "7c81b030",
   "metadata": {},
   "outputs": [],
   "source": []
  }
 ],
 "metadata": {
  "ExecuteTimeLog": [
   {
    "duration": 3070,
    "start_time": "2025-03-09T08:49:05.094Z"
   },
   {
    "duration": 0,
    "start_time": "2025-03-09T08:49:08.166Z"
   },
   {
    "duration": 85,
    "start_time": "2025-03-09T08:49:13.236Z"
   },
   {
    "duration": 1910,
    "start_time": "2025-03-09T08:49:15.906Z"
   },
   {
    "duration": 430,
    "start_time": "2025-03-09T08:49:17.819Z"
   },
   {
    "duration": 279,
    "start_time": "2025-03-09T08:49:18.250Z"
   },
   {
    "duration": 234,
    "start_time": "2025-03-09T08:49:18.534Z"
   },
   {
    "duration": 1305,
    "start_time": "2025-03-09T08:49:18.871Z"
   },
   {
    "duration": 93,
    "start_time": "2025-03-09T08:49:20.178Z"
   },
   {
    "duration": 378,
    "start_time": "2025-03-09T08:49:20.273Z"
   },
   {
    "duration": 87,
    "start_time": "2025-03-09T08:49:20.653Z"
   },
   {
    "duration": 47,
    "start_time": "2025-03-09T08:49:21.911Z"
   },
   {
    "duration": 7,
    "start_time": "2025-03-09T08:49:22.567Z"
   },
   {
    "duration": 19,
    "start_time": "2025-03-09T08:49:25.194Z"
   },
   {
    "duration": 618,
    "start_time": "2025-03-09T08:49:26.192Z"
   },
   {
    "duration": 134,
    "start_time": "2025-03-09T08:50:37.914Z"
   },
   {
    "duration": 175,
    "start_time": "2025-03-09T08:50:38.082Z"
   },
   {
    "duration": 19,
    "start_time": "2025-03-09T08:50:38.259Z"
   },
   {
    "duration": 65,
    "start_time": "2025-03-09T08:50:38.766Z"
   },
   {
    "duration": 52,
    "start_time": "2025-03-09T08:50:38.896Z"
   },
   {
    "duration": 4,
    "start_time": "2025-03-09T08:50:39.369Z"
   },
   {
    "duration": 11,
    "start_time": "2025-03-09T08:50:39.570Z"
   },
   {
    "duration": 48,
    "start_time": "2025-03-09T08:50:40.705Z"
   },
   {
    "duration": 207,
    "start_time": "2025-03-09T08:50:41.039Z"
   },
   {
    "duration": 546,
    "start_time": "2025-03-09T08:50:41.852Z"
   },
   {
    "duration": 8,
    "start_time": "2025-03-09T08:50:42.493Z"
   },
   {
    "duration": 135,
    "start_time": "2025-03-09T08:50:43.348Z"
   },
   {
    "duration": 480,
    "start_time": "2025-03-09T08:50:44.377Z"
   },
   {
    "duration": 3,
    "start_time": "2025-03-09T08:51:15.318Z"
   },
   {
    "duration": 3,
    "start_time": "2025-03-09T09:05:55.674Z"
   },
   {
    "duration": 181,
    "start_time": "2025-03-09T22:20:12.372Z"
   },
   {
    "duration": 22,
    "start_time": "2025-03-09T22:21:04.766Z"
   },
   {
    "duration": 2993,
    "start_time": "2025-03-09T22:22:32.121Z"
   },
   {
    "duration": 0,
    "start_time": "2025-03-09T22:22:35.118Z"
   },
   {
    "duration": 0,
    "start_time": "2025-03-09T22:22:35.119Z"
   },
   {
    "duration": 0,
    "start_time": "2025-03-09T22:22:35.120Z"
   },
   {
    "duration": 0,
    "start_time": "2025-03-09T22:22:35.122Z"
   },
   {
    "duration": 0,
    "start_time": "2025-03-09T22:22:35.123Z"
   },
   {
    "duration": 0,
    "start_time": "2025-03-09T22:22:35.124Z"
   },
   {
    "duration": 0,
    "start_time": "2025-03-09T22:22:35.125Z"
   },
   {
    "duration": 0,
    "start_time": "2025-03-09T22:22:35.126Z"
   },
   {
    "duration": 0,
    "start_time": "2025-03-09T22:22:35.128Z"
   },
   {
    "duration": 0,
    "start_time": "2025-03-09T22:22:35.129Z"
   },
   {
    "duration": 0,
    "start_time": "2025-03-09T22:22:35.144Z"
   },
   {
    "duration": 0,
    "start_time": "2025-03-09T22:22:35.145Z"
   },
   {
    "duration": 0,
    "start_time": "2025-03-09T22:22:35.146Z"
   },
   {
    "duration": 0,
    "start_time": "2025-03-09T22:22:35.147Z"
   },
   {
    "duration": 0,
    "start_time": "2025-03-09T22:22:35.148Z"
   },
   {
    "duration": 0,
    "start_time": "2025-03-09T22:22:35.149Z"
   },
   {
    "duration": 0,
    "start_time": "2025-03-09T22:22:35.150Z"
   },
   {
    "duration": 0,
    "start_time": "2025-03-09T22:22:35.151Z"
   },
   {
    "duration": 0,
    "start_time": "2025-03-09T22:22:35.152Z"
   },
   {
    "duration": 0,
    "start_time": "2025-03-09T22:22:35.154Z"
   },
   {
    "duration": 0,
    "start_time": "2025-03-09T22:22:35.154Z"
   },
   {
    "duration": 0,
    "start_time": "2025-03-09T22:22:35.155Z"
   },
   {
    "duration": 0,
    "start_time": "2025-03-09T22:22:35.156Z"
   },
   {
    "duration": 0,
    "start_time": "2025-03-09T22:22:35.157Z"
   },
   {
    "duration": 0,
    "start_time": "2025-03-09T22:22:35.158Z"
   },
   {
    "duration": 0,
    "start_time": "2025-03-09T22:22:35.159Z"
   },
   {
    "duration": 0,
    "start_time": "2025-03-09T22:22:35.160Z"
   },
   {
    "duration": 0,
    "start_time": "2025-03-09T22:22:35.161Z"
   },
   {
    "duration": 0,
    "start_time": "2025-03-09T22:22:35.162Z"
   },
   {
    "duration": 1,
    "start_time": "2025-03-09T22:22:35.163Z"
   },
   {
    "duration": 0,
    "start_time": "2025-03-09T22:22:35.164Z"
   },
   {
    "duration": 0,
    "start_time": "2025-03-09T22:22:35.166Z"
   },
   {
    "duration": 0,
    "start_time": "2025-03-09T22:22:35.166Z"
   },
   {
    "duration": 0,
    "start_time": "2025-03-09T22:22:35.168Z"
   },
   {
    "duration": 0,
    "start_time": "2025-03-09T22:22:35.170Z"
   },
   {
    "duration": 1,
    "start_time": "2025-03-09T22:22:35.170Z"
   },
   {
    "duration": 0,
    "start_time": "2025-03-09T22:22:35.171Z"
   },
   {
    "duration": 0,
    "start_time": "2025-03-09T22:22:35.172Z"
   },
   {
    "duration": 0,
    "start_time": "2025-03-09T22:22:35.173Z"
   },
   {
    "duration": 0,
    "start_time": "2025-03-09T22:22:35.173Z"
   },
   {
    "duration": 0,
    "start_time": "2025-03-09T22:22:35.174Z"
   },
   {
    "duration": 0,
    "start_time": "2025-03-09T22:22:35.175Z"
   },
   {
    "duration": 0,
    "start_time": "2025-03-09T22:22:35.175Z"
   },
   {
    "duration": 0,
    "start_time": "2025-03-09T22:22:35.176Z"
   },
   {
    "duration": 0,
    "start_time": "2025-03-09T22:22:35.176Z"
   },
   {
    "duration": 0,
    "start_time": "2025-03-09T22:22:35.177Z"
   },
   {
    "duration": 0,
    "start_time": "2025-03-09T22:22:35.178Z"
   },
   {
    "duration": 0,
    "start_time": "2025-03-09T22:22:35.179Z"
   },
   {
    "duration": 0,
    "start_time": "2025-03-09T22:22:35.181Z"
   },
   {
    "duration": 0,
    "start_time": "2025-03-09T22:22:35.183Z"
   },
   {
    "duration": 0,
    "start_time": "2025-03-09T22:22:35.184Z"
   },
   {
    "duration": 0,
    "start_time": "2025-03-09T22:22:35.243Z"
   },
   {
    "duration": 0,
    "start_time": "2025-03-09T22:22:35.243Z"
   },
   {
    "duration": 0,
    "start_time": "2025-03-09T22:22:35.244Z"
   },
   {
    "duration": 0,
    "start_time": "2025-03-09T22:22:35.245Z"
   },
   {
    "duration": 0,
    "start_time": "2025-03-09T22:22:35.246Z"
   },
   {
    "duration": 0,
    "start_time": "2025-03-09T22:22:35.247Z"
   },
   {
    "duration": 16,
    "start_time": "2025-03-09T22:24:21.689Z"
   },
   {
    "duration": 108,
    "start_time": "2025-03-09T22:25:05.012Z"
   },
   {
    "duration": 1102,
    "start_time": "2025-03-09T22:25:13.633Z"
   },
   {
    "duration": 1918,
    "start_time": "2025-03-09T22:25:14.737Z"
   },
   {
    "duration": 421,
    "start_time": "2025-03-09T22:25:16.657Z"
   },
   {
    "duration": 262,
    "start_time": "2025-03-09T22:25:17.081Z"
   },
   {
    "duration": 238,
    "start_time": "2025-03-09T22:25:17.345Z"
   },
   {
    "duration": 1343,
    "start_time": "2025-03-09T22:25:17.585Z"
   },
   {
    "duration": 93,
    "start_time": "2025-03-09T22:25:18.930Z"
   },
   {
    "duration": 437,
    "start_time": "2025-03-09T22:25:19.025Z"
   },
   {
    "duration": 100,
    "start_time": "2025-03-09T22:25:19.464Z"
   },
   {
    "duration": 53,
    "start_time": "2025-03-09T22:25:19.567Z"
   },
   {
    "duration": 8,
    "start_time": "2025-03-09T22:25:19.621Z"
   },
   {
    "duration": 24,
    "start_time": "2025-03-09T22:25:19.630Z"
   },
   {
    "duration": 526,
    "start_time": "2025-03-09T22:25:19.656Z"
   },
   {
    "duration": 145,
    "start_time": "2025-03-09T22:25:20.184Z"
   },
   {
    "duration": 200,
    "start_time": "2025-03-09T22:25:20.331Z"
   },
   {
    "duration": 28,
    "start_time": "2025-03-09T22:25:20.534Z"
   },
   {
    "duration": 91,
    "start_time": "2025-03-09T22:25:20.563Z"
   },
   {
    "duration": 50,
    "start_time": "2025-03-09T22:25:20.656Z"
   },
   {
    "duration": 4,
    "start_time": "2025-03-09T22:25:20.708Z"
   },
   {
    "duration": 29,
    "start_time": "2025-03-09T22:25:20.714Z"
   },
   {
    "duration": 59,
    "start_time": "2025-03-09T22:25:20.745Z"
   },
   {
    "duration": 280,
    "start_time": "2025-03-09T22:25:20.806Z"
   },
   {
    "duration": 549,
    "start_time": "2025-03-09T22:25:21.087Z"
   },
   {
    "duration": 8,
    "start_time": "2025-03-09T22:25:21.642Z"
   },
   {
    "duration": 148,
    "start_time": "2025-03-09T22:25:21.652Z"
   },
   {
    "duration": 477,
    "start_time": "2025-03-09T22:25:21.802Z"
   },
   {
    "duration": 413,
    "start_time": "2025-03-09T22:25:22.282Z"
   },
   {
    "duration": 368,
    "start_time": "2025-03-09T22:25:22.700Z"
   },
   {
    "duration": 251,
    "start_time": "2025-03-09T22:25:23.070Z"
   },
   {
    "duration": 142,
    "start_time": "2025-03-09T22:25:23.323Z"
   },
   {
    "duration": 45,
    "start_time": "2025-03-09T22:25:23.467Z"
   },
   {
    "duration": 44,
    "start_time": "2025-03-09T22:25:23.514Z"
   },
   {
    "duration": 40,
    "start_time": "2025-03-09T22:25:23.560Z"
   },
   {
    "duration": 204,
    "start_time": "2025-03-09T22:25:23.602Z"
   },
   {
    "duration": 48,
    "start_time": "2025-03-09T22:25:23.810Z"
   },
   {
    "duration": 18,
    "start_time": "2025-03-09T22:25:23.860Z"
   },
   {
    "duration": 36,
    "start_time": "2025-03-09T22:25:23.879Z"
   },
   {
    "duration": 7,
    "start_time": "2025-03-09T22:25:23.917Z"
   },
   {
    "duration": 56,
    "start_time": "2025-03-09T22:25:23.926Z"
   },
   {
    "duration": 3,
    "start_time": "2025-03-09T22:25:23.984Z"
   },
   {
    "duration": 17,
    "start_time": "2025-03-09T22:25:23.990Z"
   },
   {
    "duration": 35,
    "start_time": "2025-03-09T22:25:24.008Z"
   },
   {
    "duration": 131,
    "start_time": "2025-03-09T22:25:24.045Z"
   },
   {
    "duration": 704,
    "start_time": "2025-03-09T22:25:24.178Z"
   },
   {
    "duration": 0,
    "start_time": "2025-03-09T22:25:24.884Z"
   },
   {
    "duration": 0,
    "start_time": "2025-03-09T22:25:24.885Z"
   },
   {
    "duration": 0,
    "start_time": "2025-03-09T22:25:24.886Z"
   },
   {
    "duration": 0,
    "start_time": "2025-03-09T22:25:24.887Z"
   },
   {
    "duration": 0,
    "start_time": "2025-03-09T22:25:24.888Z"
   },
   {
    "duration": 0,
    "start_time": "2025-03-09T22:25:24.889Z"
   },
   {
    "duration": 0,
    "start_time": "2025-03-09T22:25:24.891Z"
   },
   {
    "duration": 0,
    "start_time": "2025-03-09T22:25:24.892Z"
   },
   {
    "duration": 0,
    "start_time": "2025-03-09T22:25:24.893Z"
   },
   {
    "duration": 0,
    "start_time": "2025-03-09T22:25:24.894Z"
   },
   {
    "duration": 0,
    "start_time": "2025-03-09T22:25:24.895Z"
   },
   {
    "duration": 0,
    "start_time": "2025-03-09T22:25:24.896Z"
   },
   {
    "duration": 0,
    "start_time": "2025-03-09T22:25:24.897Z"
   },
   {
    "duration": 0,
    "start_time": "2025-03-09T22:25:24.898Z"
   },
   {
    "duration": 4,
    "start_time": "2025-03-09T22:27:08.265Z"
   },
   {
    "duration": 1079,
    "start_time": "2025-03-09T22:27:16.250Z"
   },
   {
    "duration": 1921,
    "start_time": "2025-03-09T22:27:17.332Z"
   },
   {
    "duration": 429,
    "start_time": "2025-03-09T22:27:19.255Z"
   },
   {
    "duration": 264,
    "start_time": "2025-03-09T22:27:19.687Z"
   },
   {
    "duration": 236,
    "start_time": "2025-03-09T22:27:19.953Z"
   },
   {
    "duration": 1367,
    "start_time": "2025-03-09T22:27:20.191Z"
   },
   {
    "duration": 93,
    "start_time": "2025-03-09T22:27:21.561Z"
   },
   {
    "duration": 331,
    "start_time": "2025-03-09T22:27:21.658Z"
   },
   {
    "duration": 87,
    "start_time": "2025-03-09T22:27:21.991Z"
   },
   {
    "duration": 51,
    "start_time": "2025-03-09T22:27:22.081Z"
   },
   {
    "duration": 12,
    "start_time": "2025-03-09T22:27:22.134Z"
   },
   {
    "duration": 16,
    "start_time": "2025-03-09T22:27:22.147Z"
   },
   {
    "duration": 562,
    "start_time": "2025-03-09T22:27:22.165Z"
   },
   {
    "duration": 138,
    "start_time": "2025-03-09T22:27:22.729Z"
   },
   {
    "duration": 196,
    "start_time": "2025-03-09T22:27:22.868Z"
   },
   {
    "duration": 23,
    "start_time": "2025-03-09T22:27:23.067Z"
   },
   {
    "duration": 88,
    "start_time": "2025-03-09T22:27:23.092Z"
   },
   {
    "duration": 47,
    "start_time": "2025-03-09T22:27:23.182Z"
   },
   {
    "duration": 16,
    "start_time": "2025-03-09T22:27:23.231Z"
   },
   {
    "duration": 15,
    "start_time": "2025-03-09T22:27:23.249Z"
   },
   {
    "duration": 48,
    "start_time": "2025-03-09T22:27:23.265Z"
   },
   {
    "duration": 241,
    "start_time": "2025-03-09T22:27:23.315Z"
   },
   {
    "duration": 576,
    "start_time": "2025-03-09T22:27:23.558Z"
   },
   {
    "duration": 13,
    "start_time": "2025-03-09T22:27:24.136Z"
   },
   {
    "duration": 157,
    "start_time": "2025-03-09T22:27:24.150Z"
   },
   {
    "duration": 509,
    "start_time": "2025-03-09T22:27:24.309Z"
   },
   {
    "duration": 390,
    "start_time": "2025-03-09T22:27:24.820Z"
   },
   {
    "duration": 343,
    "start_time": "2025-03-09T22:27:25.216Z"
   },
   {
    "duration": 205,
    "start_time": "2025-03-09T22:27:25.561Z"
   },
   {
    "duration": 191,
    "start_time": "2025-03-09T22:27:25.768Z"
   },
   {
    "duration": 46,
    "start_time": "2025-03-09T22:27:25.961Z"
   },
   {
    "duration": 38,
    "start_time": "2025-03-09T22:27:26.009Z"
   },
   {
    "duration": 26,
    "start_time": "2025-03-09T22:27:26.049Z"
   },
   {
    "duration": 184,
    "start_time": "2025-03-09T22:27:26.077Z"
   },
   {
    "duration": 43,
    "start_time": "2025-03-09T22:27:26.263Z"
   },
   {
    "duration": 16,
    "start_time": "2025-03-09T22:27:26.309Z"
   },
   {
    "duration": 30,
    "start_time": "2025-03-09T22:27:26.343Z"
   },
   {
    "duration": 8,
    "start_time": "2025-03-09T22:27:26.375Z"
   },
   {
    "duration": 37,
    "start_time": "2025-03-09T22:27:26.386Z"
   },
   {
    "duration": 20,
    "start_time": "2025-03-09T22:27:26.425Z"
   },
   {
    "duration": 19,
    "start_time": "2025-03-09T22:27:26.446Z"
   },
   {
    "duration": 14,
    "start_time": "2025-03-09T22:27:26.466Z"
   },
   {
    "duration": 143,
    "start_time": "2025-03-09T22:27:26.482Z"
   },
   {
    "duration": 738,
    "start_time": "2025-03-09T22:27:26.627Z"
   },
   {
    "duration": 0,
    "start_time": "2025-03-09T22:27:27.367Z"
   },
   {
    "duration": 0,
    "start_time": "2025-03-09T22:27:27.369Z"
   },
   {
    "duration": 0,
    "start_time": "2025-03-09T22:27:27.370Z"
   },
   {
    "duration": 0,
    "start_time": "2025-03-09T22:27:27.371Z"
   },
   {
    "duration": 0,
    "start_time": "2025-03-09T22:27:27.373Z"
   },
   {
    "duration": 0,
    "start_time": "2025-03-09T22:27:27.374Z"
   },
   {
    "duration": 0,
    "start_time": "2025-03-09T22:27:27.376Z"
   },
   {
    "duration": 0,
    "start_time": "2025-03-09T22:27:27.377Z"
   },
   {
    "duration": 0,
    "start_time": "2025-03-09T22:27:27.378Z"
   },
   {
    "duration": 0,
    "start_time": "2025-03-09T22:27:27.379Z"
   },
   {
    "duration": 0,
    "start_time": "2025-03-09T22:27:27.380Z"
   },
   {
    "duration": 0,
    "start_time": "2025-03-09T22:27:27.382Z"
   },
   {
    "duration": 0,
    "start_time": "2025-03-09T22:27:27.383Z"
   },
   {
    "duration": 0,
    "start_time": "2025-03-09T22:27:27.384Z"
   },
   {
    "duration": 348,
    "start_time": "2025-03-09T22:28:11.705Z"
   },
   {
    "duration": 523,
    "start_time": "2025-03-09T22:29:12.430Z"
   },
   {
    "duration": 503,
    "start_time": "2025-03-09T22:29:31.392Z"
   },
   {
    "duration": 510,
    "start_time": "2025-03-09T22:29:49.798Z"
   },
   {
    "duration": 1841,
    "start_time": "2025-03-09T22:30:14.529Z"
   },
   {
    "duration": 1018,
    "start_time": "2025-03-09T22:35:03.117Z"
   },
   {
    "duration": 1027,
    "start_time": "2025-03-09T22:38:24.824Z"
   },
   {
    "duration": 539,
    "start_time": "2025-03-09T22:38:46.441Z"
   },
   {
    "duration": 1579,
    "start_time": "2025-03-09T22:39:16.693Z"
   },
   {
    "duration": 536,
    "start_time": "2025-03-09T22:40:59.694Z"
   },
   {
    "duration": 10689,
    "start_time": "2025-03-09T22:41:03.556Z"
   },
   {
    "duration": 9893,
    "start_time": "2025-03-09T22:48:57.252Z"
   },
   {
    "duration": 9774,
    "start_time": "2025-03-09T22:49:33.378Z"
   },
   {
    "duration": 16,
    "start_time": "2025-03-09T22:53:07.882Z"
   },
   {
    "duration": 2005,
    "start_time": "2025-03-09T22:53:50.655Z"
   },
   {
    "duration": 26,
    "start_time": "2025-03-09T23:01:16.347Z"
   },
   {
    "duration": 21,
    "start_time": "2025-03-09T23:01:50.304Z"
   },
   {
    "duration": 21,
    "start_time": "2025-03-09T23:01:59.788Z"
   },
   {
    "duration": 16,
    "start_time": "2025-03-09T23:07:43.085Z"
   },
   {
    "duration": 1081,
    "start_time": "2025-03-09T23:09:39.856Z"
   },
   {
    "duration": 2065,
    "start_time": "2025-03-09T23:09:40.939Z"
   },
   {
    "duration": 450,
    "start_time": "2025-03-09T23:09:43.006Z"
   },
   {
    "duration": 264,
    "start_time": "2025-03-09T23:09:43.458Z"
   },
   {
    "duration": 230,
    "start_time": "2025-03-09T23:09:43.726Z"
   },
   {
    "duration": 1241,
    "start_time": "2025-03-09T23:09:43.958Z"
   },
   {
    "duration": 92,
    "start_time": "2025-03-09T23:09:45.201Z"
   },
   {
    "duration": 333,
    "start_time": "2025-03-09T23:09:45.295Z"
   },
   {
    "duration": 83,
    "start_time": "2025-03-09T23:09:45.630Z"
   },
   {
    "duration": 56,
    "start_time": "2025-03-09T23:09:45.714Z"
   },
   {
    "duration": 7,
    "start_time": "2025-03-09T23:09:45.772Z"
   },
   {
    "duration": 15,
    "start_time": "2025-03-09T23:09:45.780Z"
   },
   {
    "duration": 550,
    "start_time": "2025-03-09T23:09:45.797Z"
   },
   {
    "duration": 159,
    "start_time": "2025-03-09T23:09:46.351Z"
   },
   {
    "duration": 179,
    "start_time": "2025-03-09T23:09:46.511Z"
   },
   {
    "duration": 18,
    "start_time": "2025-03-09T23:09:46.691Z"
   },
   {
    "duration": 79,
    "start_time": "2025-03-09T23:09:46.711Z"
   },
   {
    "duration": 53,
    "start_time": "2025-03-09T23:09:46.792Z"
   },
   {
    "duration": 4,
    "start_time": "2025-03-09T23:09:46.847Z"
   },
   {
    "duration": 11,
    "start_time": "2025-03-09T23:09:46.853Z"
   },
   {
    "duration": 45,
    "start_time": "2025-03-09T23:09:46.866Z"
   },
   {
    "duration": 218,
    "start_time": "2025-03-09T23:09:46.912Z"
   },
   {
    "duration": 536,
    "start_time": "2025-03-09T23:09:47.132Z"
   },
   {
    "duration": 8,
    "start_time": "2025-03-09T23:09:47.670Z"
   },
   {
    "duration": 140,
    "start_time": "2025-03-09T23:09:47.679Z"
   },
   {
    "duration": 464,
    "start_time": "2025-03-09T23:09:47.821Z"
   },
   {
    "duration": 380,
    "start_time": "2025-03-09T23:09:48.287Z"
   },
   {
    "duration": 344,
    "start_time": "2025-03-09T23:09:48.668Z"
   },
   {
    "duration": 196,
    "start_time": "2025-03-09T23:09:49.014Z"
   },
   {
    "duration": 143,
    "start_time": "2025-03-09T23:09:49.212Z"
   },
   {
    "duration": 43,
    "start_time": "2025-03-09T23:09:49.357Z"
   },
   {
    "duration": 40,
    "start_time": "2025-03-09T23:09:49.402Z"
   },
   {
    "duration": 26,
    "start_time": "2025-03-09T23:09:49.445Z"
   },
   {
    "duration": 172,
    "start_time": "2025-03-09T23:09:49.472Z"
   },
   {
    "duration": 48,
    "start_time": "2025-03-09T23:09:49.646Z"
   },
   {
    "duration": 16,
    "start_time": "2025-03-09T23:09:49.696Z"
   },
   {
    "duration": 53,
    "start_time": "2025-03-09T23:09:49.713Z"
   },
   {
    "duration": 6,
    "start_time": "2025-03-09T23:09:49.767Z"
   },
   {
    "duration": 38,
    "start_time": "2025-03-09T23:09:49.775Z"
   },
   {
    "duration": 4,
    "start_time": "2025-03-09T23:09:49.814Z"
   },
   {
    "duration": 15,
    "start_time": "2025-03-09T23:09:49.846Z"
   },
   {
    "duration": 12,
    "start_time": "2025-03-09T23:09:49.864Z"
   },
   {
    "duration": 135,
    "start_time": "2025-03-09T23:09:49.877Z"
   },
   {
    "duration": 559,
    "start_time": "2025-03-09T23:09:50.013Z"
   },
   {
    "duration": 9688,
    "start_time": "2025-03-09T23:09:50.574Z"
   },
   {
    "duration": 2294,
    "start_time": "2025-03-09T23:10:00.264Z"
   },
   {
    "duration": 96,
    "start_time": "2025-03-09T23:10:02.560Z"
   },
   {
    "duration": 1074,
    "start_time": "2025-03-09T23:24:36.287Z"
   },
   {
    "duration": 1937,
    "start_time": "2025-03-09T23:24:37.363Z"
   },
   {
    "duration": 437,
    "start_time": "2025-03-09T23:24:39.302Z"
   },
   {
    "duration": 265,
    "start_time": "2025-03-09T23:24:39.741Z"
   },
   {
    "duration": 243,
    "start_time": "2025-03-09T23:24:40.010Z"
   },
   {
    "duration": 1302,
    "start_time": "2025-03-09T23:24:40.256Z"
   },
   {
    "duration": 89,
    "start_time": "2025-03-09T23:24:41.560Z"
   },
   {
    "duration": 322,
    "start_time": "2025-03-09T23:24:41.651Z"
   },
   {
    "duration": 86,
    "start_time": "2025-03-09T23:24:41.975Z"
   },
   {
    "duration": 47,
    "start_time": "2025-03-09T23:24:42.063Z"
   },
   {
    "duration": 8,
    "start_time": "2025-03-09T23:24:42.111Z"
   },
   {
    "duration": 35,
    "start_time": "2025-03-09T23:24:42.121Z"
   },
   {
    "duration": 548,
    "start_time": "2025-03-09T23:24:42.158Z"
   },
   {
    "duration": 167,
    "start_time": "2025-03-09T23:24:42.710Z"
   },
   {
    "duration": 245,
    "start_time": "2025-03-09T23:24:42.879Z"
   },
   {
    "duration": 34,
    "start_time": "2025-03-09T23:24:43.126Z"
   },
   {
    "duration": 83,
    "start_time": "2025-03-09T23:24:43.162Z"
   },
   {
    "duration": 56,
    "start_time": "2025-03-09T23:24:43.247Z"
   },
   {
    "duration": 4,
    "start_time": "2025-03-09T23:24:43.304Z"
   },
   {
    "duration": 33,
    "start_time": "2025-03-09T23:24:43.310Z"
   },
   {
    "duration": 46,
    "start_time": "2025-03-09T23:24:43.345Z"
   },
   {
    "duration": 217,
    "start_time": "2025-03-09T23:24:43.394Z"
   },
   {
    "duration": 561,
    "start_time": "2025-03-09T23:24:43.612Z"
   },
   {
    "duration": 8,
    "start_time": "2025-03-09T23:24:44.175Z"
   },
   {
    "duration": 157,
    "start_time": "2025-03-09T23:24:44.185Z"
   },
   {
    "duration": 460,
    "start_time": "2025-03-09T23:24:44.344Z"
   },
   {
    "duration": 371,
    "start_time": "2025-03-09T23:24:44.806Z"
   },
   {
    "duration": 382,
    "start_time": "2025-03-09T23:24:45.179Z"
   },
   {
    "duration": 173,
    "start_time": "2025-03-09T23:24:45.563Z"
   },
   {
    "duration": 147,
    "start_time": "2025-03-09T23:24:45.738Z"
   },
   {
    "duration": 44,
    "start_time": "2025-03-09T23:24:45.887Z"
   },
   {
    "duration": 33,
    "start_time": "2025-03-09T23:24:45.932Z"
   },
   {
    "duration": 24,
    "start_time": "2025-03-09T23:24:45.966Z"
   },
   {
    "duration": 163,
    "start_time": "2025-03-09T23:24:45.992Z"
   },
   {
    "duration": 43,
    "start_time": "2025-03-09T23:24:46.157Z"
   },
   {
    "duration": 16,
    "start_time": "2025-03-09T23:24:46.203Z"
   },
   {
    "duration": 48,
    "start_time": "2025-03-09T23:24:46.221Z"
   },
   {
    "duration": 7,
    "start_time": "2025-03-09T23:24:46.271Z"
   },
   {
    "duration": 38,
    "start_time": "2025-03-09T23:24:46.280Z"
   },
   {
    "duration": 4,
    "start_time": "2025-03-09T23:24:46.342Z"
   },
   {
    "duration": 16,
    "start_time": "2025-03-09T23:24:46.351Z"
   },
   {
    "duration": 12,
    "start_time": "2025-03-09T23:24:46.368Z"
   },
   {
    "duration": 146,
    "start_time": "2025-03-09T23:24:46.382Z"
   },
   {
    "duration": 553,
    "start_time": "2025-03-09T23:24:46.530Z"
   },
   {
    "duration": 9777,
    "start_time": "2025-03-09T23:24:47.085Z"
   },
   {
    "duration": 2082,
    "start_time": "2025-03-09T23:24:56.866Z"
   },
   {
    "duration": 95,
    "start_time": "2025-03-09T23:24:58.950Z"
   },
   {
    "duration": 2897,
    "start_time": "2025-03-10T08:51:48.348Z"
   },
   {
    "duration": 0,
    "start_time": "2025-03-10T08:51:51.247Z"
   },
   {
    "duration": 0,
    "start_time": "2025-03-10T08:51:51.248Z"
   },
   {
    "duration": 0,
    "start_time": "2025-03-10T08:51:51.249Z"
   },
   {
    "duration": 0,
    "start_time": "2025-03-10T08:51:51.250Z"
   },
   {
    "duration": 0,
    "start_time": "2025-03-10T08:51:51.251Z"
   },
   {
    "duration": 0,
    "start_time": "2025-03-10T08:51:51.252Z"
   },
   {
    "duration": 0,
    "start_time": "2025-03-10T08:51:51.253Z"
   },
   {
    "duration": 0,
    "start_time": "2025-03-10T08:51:51.254Z"
   },
   {
    "duration": 0,
    "start_time": "2025-03-10T08:51:51.255Z"
   },
   {
    "duration": 14,
    "start_time": "2025-03-10T08:51:51.399Z"
   },
   {
    "duration": 4,
    "start_time": "2025-03-10T08:51:57.137Z"
   },
   {
    "duration": 83,
    "start_time": "2025-03-10T08:51:59.377Z"
   },
   {
    "duration": 1989,
    "start_time": "2025-03-10T08:52:03.046Z"
   },
   {
    "duration": 423,
    "start_time": "2025-03-10T08:52:05.037Z"
   },
   {
    "duration": 262,
    "start_time": "2025-03-10T08:52:05.462Z"
   },
   {
    "duration": 229,
    "start_time": "2025-03-10T08:52:05.727Z"
   },
   {
    "duration": 1229,
    "start_time": "2025-03-10T08:52:05.957Z"
   },
   {
    "duration": 90,
    "start_time": "2025-03-10T08:52:07.188Z"
   },
   {
    "duration": 351,
    "start_time": "2025-03-10T08:52:07.279Z"
   },
   {
    "duration": 79,
    "start_time": "2025-03-10T08:52:07.633Z"
   },
   {
    "duration": 50,
    "start_time": "2025-03-10T08:52:07.724Z"
   },
   {
    "duration": 7,
    "start_time": "2025-03-10T08:52:07.777Z"
   },
   {
    "duration": 15,
    "start_time": "2025-03-10T08:52:07.786Z"
   },
   {
    "duration": 552,
    "start_time": "2025-03-10T08:52:07.802Z"
   },
   {
    "duration": 141,
    "start_time": "2025-03-10T08:52:08.355Z"
   },
   {
    "duration": 244,
    "start_time": "2025-03-10T08:52:08.499Z"
   },
   {
    "duration": 18,
    "start_time": "2025-03-10T08:52:08.745Z"
   },
   {
    "duration": 65,
    "start_time": "2025-03-10T08:52:09.202Z"
   },
   {
    "duration": 47,
    "start_time": "2025-03-10T08:52:09.359Z"
   },
   {
    "duration": 3,
    "start_time": "2025-03-10T08:52:09.521Z"
   },
   {
    "duration": 12,
    "start_time": "2025-03-10T08:52:09.685Z"
   },
   {
    "duration": 47,
    "start_time": "2025-03-10T08:52:10.299Z"
   },
   {
    "duration": 203,
    "start_time": "2025-03-10T08:52:10.446Z"
   },
   {
    "duration": 436,
    "start_time": "2025-03-10T08:52:10.734Z"
   },
   {
    "duration": 9,
    "start_time": "2025-03-10T08:52:11.172Z"
   },
   {
    "duration": 142,
    "start_time": "2025-03-10T08:52:11.184Z"
   },
   {
    "duration": 414,
    "start_time": "2025-03-10T08:52:11.764Z"
   },
   {
    "duration": 360,
    "start_time": "2025-03-10T08:52:12.258Z"
   },
   {
    "duration": 423,
    "start_time": "2025-03-10T08:52:12.620Z"
   },
   {
    "duration": 168,
    "start_time": "2025-03-10T08:52:13.267Z"
   },
   {
    "duration": 153,
    "start_time": "2025-03-10T08:52:13.757Z"
   },
   {
    "duration": 44,
    "start_time": "2025-03-10T08:52:14.271Z"
   },
   {
    "duration": 25,
    "start_time": "2025-03-10T08:52:14.436Z"
   },
   {
    "duration": 27,
    "start_time": "2025-03-10T08:52:14.924Z"
   },
   {
    "duration": 157,
    "start_time": "2025-03-10T08:52:15.322Z"
   },
   {
    "duration": 45,
    "start_time": "2025-03-10T08:52:15.871Z"
   },
   {
    "duration": 18,
    "start_time": "2025-03-10T08:52:16.030Z"
   },
   {
    "duration": 35,
    "start_time": "2025-03-10T08:52:16.160Z"
   },
   {
    "duration": 6,
    "start_time": "2025-03-10T08:52:16.346Z"
   },
   {
    "duration": 38,
    "start_time": "2025-03-10T08:52:16.510Z"
   },
   {
    "duration": 5,
    "start_time": "2025-03-10T08:52:16.684Z"
   },
   {
    "duration": 16,
    "start_time": "2025-03-10T08:52:16.839Z"
   },
   {
    "duration": 14,
    "start_time": "2025-03-10T08:52:17.452Z"
   },
   {
    "duration": 125,
    "start_time": "2025-03-10T08:52:17.681Z"
   },
   {
    "duration": 603,
    "start_time": "2025-03-10T08:52:19.253Z"
   },
   {
    "duration": 10793,
    "start_time": "2025-03-10T08:52:19.858Z"
   },
   {
    "duration": 3,
    "start_time": "2025-03-10T08:53:35.543Z"
   },
   {
    "duration": 5,
    "start_time": "2025-03-10T08:53:38.761Z"
   },
   {
    "duration": 1881,
    "start_time": "2025-03-10T08:54:12.092Z"
   },
   {
    "duration": 393,
    "start_time": "2025-03-10T08:54:13.975Z"
   },
   {
    "duration": 228,
    "start_time": "2025-03-10T08:54:14.371Z"
   },
   {
    "duration": 229,
    "start_time": "2025-03-10T08:54:14.602Z"
   },
   {
    "duration": 1255,
    "start_time": "2025-03-10T08:54:14.832Z"
   },
   {
    "duration": 108,
    "start_time": "2025-03-10T08:54:16.089Z"
   },
   {
    "duration": 485,
    "start_time": "2025-03-10T08:54:16.199Z"
   },
   {
    "duration": 87,
    "start_time": "2025-03-10T08:54:16.686Z"
   },
   {
    "duration": 54,
    "start_time": "2025-03-10T08:54:16.777Z"
   },
   {
    "duration": 7,
    "start_time": "2025-03-10T08:54:16.833Z"
   },
   {
    "duration": 29,
    "start_time": "2025-03-10T08:54:16.842Z"
   },
   {
    "duration": 536,
    "start_time": "2025-03-10T08:54:16.872Z"
   },
   {
    "duration": 151,
    "start_time": "2025-03-10T08:54:17.410Z"
   },
   {
    "duration": 199,
    "start_time": "2025-03-10T08:54:17.563Z"
   },
   {
    "duration": 21,
    "start_time": "2025-03-10T08:54:17.764Z"
   },
   {
    "duration": 73,
    "start_time": "2025-03-10T08:54:17.869Z"
   },
   {
    "duration": 49,
    "start_time": "2025-03-10T08:54:18.240Z"
   },
   {
    "duration": 4,
    "start_time": "2025-03-10T08:54:18.576Z"
   },
   {
    "duration": 13,
    "start_time": "2025-03-10T08:54:18.917Z"
   },
   {
    "duration": 48,
    "start_time": "2025-03-10T08:54:20.067Z"
   },
   {
    "duration": 220,
    "start_time": "2025-03-10T08:54:20.405Z"
   },
   {
    "duration": 456,
    "start_time": "2025-03-10T08:54:21.271Z"
   },
   {
    "duration": 9,
    "start_time": "2025-03-10T08:54:21.746Z"
   },
   {
    "duration": 450,
    "start_time": "2025-03-10T08:54:37.027Z"
   },
   {
    "duration": 130,
    "start_time": "2025-03-10T08:54:45.612Z"
   },
   {
    "duration": 4,
    "start_time": "2025-03-10T08:54:49.000Z"
   },
   {
    "duration": 9,
    "start_time": "2025-03-10T08:55:00.567Z"
   },
   {
    "duration": 8,
    "start_time": "2025-03-10T08:55:07.417Z"
   },
   {
    "duration": 5,
    "start_time": "2025-03-10T08:55:16.048Z"
   },
   {
    "duration": 28,
    "start_time": "2025-03-10T08:55:23.473Z"
   },
   {
    "duration": 19,
    "start_time": "2025-03-10T08:55:25.898Z"
   },
   {
    "duration": 8,
    "start_time": "2025-03-10T08:55:45.105Z"
   },
   {
    "duration": 7,
    "start_time": "2025-03-10T08:55:53.050Z"
   },
   {
    "duration": 8,
    "start_time": "2025-03-10T08:55:59.102Z"
   },
   {
    "duration": 7,
    "start_time": "2025-03-10T08:56:02.720Z"
   },
   {
    "duration": 7,
    "start_time": "2025-03-10T08:56:06.268Z"
   }
  ],
  "kernelspec": {
   "display_name": "Python 3 (ipykernel)",
   "language": "python",
   "name": "python3"
  },
  "language_info": {
   "codemirror_mode": {
    "name": "ipython",
    "version": 3
   },
   "file_extension": ".py",
   "mimetype": "text/x-python",
   "name": "python",
   "nbconvert_exporter": "python",
   "pygments_lexer": "ipython3",
   "version": "3.11.8"
  },
  "toc": {
   "base_numbering": 1,
   "nav_menu": {},
   "number_sections": true,
   "sideBar": true,
   "skip_h1_title": true,
   "title_cell": "Table of Contents",
   "title_sidebar": "Contents",
   "toc_cell": false,
   "toc_position": {
    "height": "calc(100% - 180px)",
    "left": "10px",
    "top": "150px",
    "width": "198px"
   },
   "toc_section_display": true,
   "toc_window_display": false
  }
 },
 "nbformat": 4,
 "nbformat_minor": 5
}
